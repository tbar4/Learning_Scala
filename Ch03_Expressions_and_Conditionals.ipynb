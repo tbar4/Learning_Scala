{
 "cells": [
  {
   "cell_type": "markdown",
   "metadata": {},
   "source": [
    "# Expressions and Conditionals\n",
    "\n",
    "The term ***expression*** indicates a unit of code that returns a value after it has been executed. One or more lines of code can be considered an ***expression*** if they are collected together using curly braces ({ and }). This is known as an ***expression block***.\n",
    "\n",
    "Expressions provide a foundation for functional programming because they make it possible to return data instead of modifying existing data (such as a variable). This enables the use of immutable data, a key functional programming concept where new data is stored in new values instead of in existing variables. Functions, of course, can be used to return new data, but they are in a way just another type of expression.\n",
    "\n",
    "Expressions provide a foundation for functional programming because they make it possible to return data instead of modifying existing data (such as a variable). This enables the use of immutable data, a key functional programming concept where new data is stored in new values instead of in existing variables. Functions, of course, can be used to return new data, but they are in a way just another type of expression.\n",
    "\n",
    "When all of your code can be organized (or conceptualized) into a collection of one or more hierarchical expressions that return values using immutable data will be straight‐forward. The return values of expressions will be passed to other expressions or stored into values. As you migrate from using variables, your functions and expressions will have fewer ***side effects***. In other words, they will purely act on the input you give them without affecting any data other than their return value. This is one of the main goals and benefits of functional programming.\n",
    "\n",
    "## Expressions\n",
    "\n",
    "As noted earlier, an expression is a single unit of code that returns a value.\n",
    "\n",
    "Let’s start out with an example of a simple expression in Scala, just a String literal on\n",
    "its own:"
   ]
  },
  {
   "cell_type": "code",
   "execution_count": 1,
   "metadata": {},
   "outputs": [
    {
     "data": {
      "text/plain": [
       "\u001b[36mres0\u001b[39m: \u001b[32mString\u001b[39m = \u001b[32m\"hello\"\u001b[39m"
      ]
     },
     "execution_count": 1,
     "metadata": {},
     "output_type": "execute_result"
    }
   ],
   "source": [
    "\"hello\""
   ]
  },
  {
   "cell_type": "markdown",
   "metadata": {},
   "source": [
    "### Defining Values and Variables with Expressions\n",
    "\n",
    "We have seen that expressions cover both literal values (“hello”) and calculated values. Previously we have defined values and variables as being assigned literal values. However, it is more accurate to say that they are assigned the return value of expressions. This is true whether the expression is a literal (e.g., 5), a calculation, or a function call.\n",
    "\n",
    "> `val identifier[: type] = expression`\n",
    "> `var identifier[: type] = expression`\n",
    "\n",
    "Because literal values are also a kind of expression, these definitions are more encom‐ passing and accurate. It turns out that expressions are also a good foundation for defin‐ ing most of Scala’s syntax. Look for the term “expression” in future syntax notations to indicate where any expression may be used.\n",
    "\n",
    "### Expression Blocks\n",
    "\n",
    "Multiple expressions can be combined using curly braces ({ and }) to create a single ***expression block***. An expression has its own scope, and may contain values and variables local to the expression block. The last expression in the block is the return value for the entire block.\n",
    "\n",
    "As an example, here is a line with two expressions that would work better as a block:"
   ]
  },
  {
   "cell_type": "code",
   "execution_count": 2,
   "metadata": {},
   "outputs": [
    {
     "data": {
      "text/plain": [
       "\u001b[36mx\u001b[39m: \u001b[32mInt\u001b[39m = \u001b[32m100\u001b[39m\n",
       "\u001b[36mamount\u001b[39m: \u001b[32mInt\u001b[39m = \u001b[32m110\u001b[39m"
      ]
     },
     "execution_count": 2,
     "metadata": {},
     "output_type": "execute_result"
    }
   ],
   "source": [
    "val x = 5 * 20; val amount = x + 10"
   ]
  },
  {
   "cell_type": "markdown",
   "metadata": {},
   "source": [
    "The only value we really care about keeping is “amount,” so let’s combine the expressions including the “x” value into a block. We’ll use its return value to define the “amount” value:"
   ]
  },
  {
   "cell_type": "code",
   "execution_count": 3,
   "metadata": {},
   "outputs": [
    {
     "data": {
      "text/plain": [
       "\u001b[36mamount\u001b[39m: \u001b[32mInt\u001b[39m = \u001b[32m110\u001b[39m"
      ]
     },
     "execution_count": 3,
     "metadata": {},
     "output_type": "execute_result"
    }
   ],
   "source": [
    "val amount = {val x = 5 * 20; x + 10}"
   ]
  },
  {
   "cell_type": "markdown",
   "metadata": {},
   "source": [
    "Expression blocks can span as many lines as you need. The preceding example could have been rewritten without the semicolons as follows:"
   ]
  },
  {
   "cell_type": "code",
   "execution_count": 4,
   "metadata": {},
   "outputs": [
    {
     "data": {
      "text/plain": [
       "\u001b[36mamount\u001b[39m: \u001b[32mInt\u001b[39m = \u001b[32m110\u001b[39m"
      ]
     },
     "execution_count": 4,
     "metadata": {},
     "output_type": "execute_result"
    }
   ],
   "source": [
    "val amount = {\n",
    "    val x = 5 * 20\n",
    "    x + 10\n",
    "}"
   ]
  },
  {
   "cell_type": "markdown",
   "metadata": {},
   "source": [
    "Expression blocks are also nestable, with each level of expression block having its own scoped values and variables.\n",
    "Here is a short example demonstrating a three-deep nested expression block:"
   ]
  },
  {
   "cell_type": "code",
   "execution_count": 5,
   "metadata": {},
   "outputs": [
    {
     "data": {
      "text/plain": [
       "\u001b[36ma\u001b[39m: \u001b[32mInt\u001b[39m = \u001b[32m1\u001b[39m\n",
       "\u001b[36mres4_1\u001b[39m: \u001b[32mInt\u001b[39m = \u001b[32m6\u001b[39m"
      ]
     },
     "execution_count": 5,
     "metadata": {},
     "output_type": "execute_result"
    }
   ],
   "source": [
    "{ val a = 1; { val b = a * 2; { val c = b + 4; c } } }"
   ]
  },
  {
   "cell_type": "markdown",
   "metadata": {},
   "source": [
    "### Statements\n",
    "\n",
    "A statement is just an expression that doesn’t return a value. Statements have a return type of Unit, the type that indicates the lack of a value. Some common statements used in Scala programming include calls to println() and value and variable definitions.\n",
    "\n",
    "For example, the following value definition is a statement because it doesn’t return anything:"
   ]
  },
  {
   "cell_type": "code",
   "execution_count": 6,
   "metadata": {},
   "outputs": [
    {
     "data": {
      "text/plain": [
       "\u001b[36mx\u001b[39m: \u001b[32mInt\u001b[39m = \u001b[32m1\u001b[39m"
      ]
     },
     "execution_count": 6,
     "metadata": {},
     "output_type": "execute_result"
    }
   ],
   "source": [
    "val x = 1"
   ]
  },
  {
   "cell_type": "markdown",
   "metadata": {},
   "source": [
    "The REPL repeats the definition of x but there is not actual data returned that can be used to create a new value.\n",
    "\n",
    "A statement block, unlike an expression block, does not return a value. Because a state‐ ment block has no output, it is commonly used to modify existing data or make changes outside the scope of the application (e.g., writing to the console, updating a database, connecting to an external server)"
   ]
  },
  {
   "cell_type": "markdown",
   "metadata": {},
   "source": [
    "## If..Else Expression Blocks\n",
    "\n",
    "The If..Else conditional expression is a classic programming construct for choosing a branch of code based on whether an expression resolves to true or false. In many lan‐ guages this takes the form of an “if .. else if .. else” block, which starts with an “if,” continues with zero to many “else if” sections, and ends with a final “else” catch-all statement.\n",
    "\n",
    "As a matter of practice you can write these same “if .. else if .. else” blocks in Scala and they will work just as you have experienced them in Java and other languages. As a matter of formal syntax, however, Scala only supports a single “if ” and optional “else” block, and does not recognize the “else if ” block as a single construct.\n",
    "\n",
    "So how do “else if” blocks still work correctly in Scala? Because “if .. else” blocks are based on expression blocks, and expression blocks can be easily nested, an “if .. else if .. else” expression is equivalent to a nested “if .. else { if .. else }” expression. Logically this is exactly the same as an “if .. else if .. else” block, and as a matter of syntax Scala recognizes the second “if else” as a nested expression of the outer “if .. else” block.\n",
    "\n",
    "### If Expressions\n",
    "\n",
    "> `if (Boolean expression) expression`\n",
    "\n",
    "The term ***Boolean expression*** here indicates an expression that will return either true or false.\n",
    "\n",
    "Here is a simple if block that prints a notice if the Boolean expression is true:"
   ]
  },
  {
   "cell_type": "code",
   "execution_count": 7,
   "metadata": {},
   "outputs": [
    {
     "name": "stdout",
     "output_type": "stream",
     "text": [
      "Not a multiple of 3\n"
     ]
    }
   ],
   "source": [
    "if ( 47 % 3 > 0) println(\"Not a multiple of 3\")"
   ]
  },
  {
   "cell_type": "markdown",
   "metadata": {},
   "source": [
    "Although an if block can act as an expression, it is better suited for statements like this one. The problem with using if blocks as expressions is that they only conditionally return a value."
   ]
  },
  {
   "cell_type": "code",
   "execution_count": 8,
   "metadata": {},
   "outputs": [
    {
     "data": {
      "text/plain": [
       "\u001b[36mresult\u001b[39m: \u001b[32mAny\u001b[39m = ()"
      ]
     },
     "execution_count": 8,
     "metadata": {},
     "output_type": "execute_result"
    }
   ],
   "source": [
    "val result = if ( false ) \"What does this return?\""
   ]
  },
  {
   "cell_type": "markdown",
   "metadata": {},
   "source": [
    "The type of the `result` value in this example is unspecified so the compiler used type inference to determine the most appropriate type. Either a `String` or `Unit` could have been returned, so the compiler chose the root class `Any`. This is the one class common to both `String` (which extends `AnyRef`) and to `Unit` (which extends `AnyVal`).\n",
    "\n",
    "Unlike the solitary “if” block, the “if .. else” block is well suited to working with expressions.\n",
    "\n",
    "### If-Else Expressions\n",
    "\n",
    "> `if (Boolean Expression) expression`\n",
    ">> `else expression`"
   ]
  },
  {
   "cell_type": "code",
   "execution_count": 9,
   "metadata": {},
   "outputs": [
    {
     "data": {
      "text/plain": [
       "\u001b[36mx\u001b[39m: \u001b[32mInt\u001b[39m = \u001b[32m10\u001b[39m\n",
       "\u001b[36my\u001b[39m: \u001b[32mInt\u001b[39m = \u001b[32m20\u001b[39m\n",
       "\u001b[36mmax\u001b[39m: \u001b[32mInt\u001b[39m = \u001b[32m20\u001b[39m"
      ]
     },
     "execution_count": 9,
     "metadata": {},
     "output_type": "execute_result"
    }
   ],
   "source": [
    "val x = 10; val y = 20\n",
    "val max = if (x > y) x else y"
   ]
  },
  {
   "cell_type": "markdown",
   "metadata": {},
   "source": [
    "You can see that the `x` and `y` values make up the entirety of the if and else expressions. The resulting value is assigned to `max`, which we and the Scala compiler know will be an `Int` because both expressions have return values of type `Int`.\n",
    "\n",
    "Using a single expression without an expression block in `if..else` expressions works well if everything fits on one line. When your `if..else` expression doesn’t easily fit on a single line, however, consider using expression blocks to make your code more read‐ able. `if` expressions without an `else` should always use curly braces, because they tend to be statements that create side effects.\n",
    "\n",
    "`if..else` blocks are a simple and common way to write conditional logic. There are other, more elegant ways to do so in Scala, however, using ***match expressions***.\n",
    "\n",
    "## Match Expressions\n",
    "\n",
    "Match expressions are akin to C’s and Java’s “switch” statements, where a single input item is evaluated and the first pattern that is “matched” is executed and its value re‐ turned. Like C’s and Java’s “switch” statements, Scala’s match expressions support a de‐ fault or wildcard “catch-all” pattern. Unlike them, only zero or one patterns can match; there is no “fall-through” from one pattern to the next one in line, nor is there a “break” statement that would prevent this fall-through.\n",
    "\n",
    "The traditional “switch” statement is limited to matching by value, but Scala’s match expressions are an amazingly flexible device that also enables matching such diverse items as types, regular expressions, numeric ranges, and data structure contents. Al‐ though many match expressions could be replaced with simple “if .. else if .. else” blocks, doing so would result in a loss of the concise syntax that match expressions offer.\n",
    "\n",
    "In fact, most Scala developers prefer match expressions over “if .. else” blocks because of their expressiveness and concise syntax.\n",
    "\n",
    "> `expression match {`\n",
    ">> `case pattern match => expression`\n",
    ">>> `case...`\n",
    "\n",
    "Scala officially supports having multiple expressions follow the arrow (`=>`), but this is not recommended because it may reduce readability. If you have multiple expressions in a case block, convert them to an expression block by wrapping them with curly braces."
   ]
  },
  {
   "cell_type": "code",
   "execution_count": 10,
   "metadata": {},
   "outputs": [
    {
     "data": {
      "text/plain": [
       "\u001b[36mmax\u001b[39m: \u001b[32mInt\u001b[39m = \u001b[32m20\u001b[39m"
      ]
     },
     "execution_count": 10,
     "metadata": {},
     "output_type": "execute_result"
    }
   ],
   "source": [
    "val max = x > y match {\n",
    "    case true => x\n",
    "    case false => y\n",
    "}"
   ]
  },
  {
   "cell_type": "markdown",
   "metadata": {},
   "source": [
    "The logic works out to the same as in the “if .. else” block but is implemented differently.\n",
    "\n",
    "Here is another example of a match expression, one that takes an integer status code and tries to return the most appropriate message for it. Depending on the input to the expression, additional actions may be taken besides just returning a value:"
   ]
  },
  {
   "cell_type": "code",
   "execution_count": 11,
   "metadata": {},
   "outputs": [
    {
     "name": "stdout",
     "output_type": "stream",
     "text": [
      "ERROR - the service encountered an error\n"
     ]
    },
    {
     "data": {
      "text/plain": [
       "\u001b[36mstatus\u001b[39m: \u001b[32mInt\u001b[39m = \u001b[32m500\u001b[39m\n",
       "\u001b[36mmessage\u001b[39m: \u001b[32mString\u001b[39m = \u001b[32m\"error\"\u001b[39m"
      ]
     },
     "execution_count": 11,
     "metadata": {},
     "output_type": "execute_result"
    }
   ],
   "source": [
    "val status = 500\n",
    "\n",
    "val message = status match {\n",
    "    case 200 => \"ok\"\n",
    "    case 400 => {\n",
    "        println(\"ERROR - we called the service incorrectly\")\n",
    "        \"error\"\n",
    "    }\n",
    "    case 500 => {\n",
    "        println(\"ERROR - the service encountered an error\")\n",
    "        \"error\"\n",
    "    }\n",
    "}"
   ]
  },
  {
   "cell_type": "markdown",
   "metadata": {},
   "source": [
    "This match expression prints error messages in case the status is 400 or 500 in addition to returning the message “error.” The `println` statement is a good example of including more than one expression in a `case` block. There is no limit to the number of statements and expressions you can have inside a case block, although only the last expression will be used for the match expression’s return value.\n",
    "\n",
    "You can combine multiple patterns together with a ***pattern alternative***, where the `case` block will be triggered if any one of the patterns match.\n",
    "\n",
    "> `case pattern1 | pattern2 .. => one or more expressions`\n",
    "\n",
    "The ***pattern alternative*** makes it possible to prevent duplicated code by reusing the same `case` block for multiple patterns. Here is an example showing the uses of these pipes (|) to collapse a 7-pattern match expression down to only two patterns:"
   ]
  },
  {
   "cell_type": "code",
   "execution_count": 12,
   "metadata": {},
   "outputs": [
    {
     "data": {
      "text/plain": [
       "\u001b[36mday\u001b[39m: \u001b[32mString\u001b[39m = \u001b[32m\"MON\"\u001b[39m\n",
       "\u001b[36mkind\u001b[39m: \u001b[32mString\u001b[39m = \u001b[32m\"Weekday\"\u001b[39m"
      ]
     },
     "execution_count": 12,
     "metadata": {},
     "output_type": "execute_result"
    }
   ],
   "source": [
    "val day = \"MON\"\n",
    "\n",
    "val kind = day match {\n",
    "    case \"MON\" | \"TUE\" | \"WED\" | \"THU\" | \"FRI\" =>\n",
    "        \"Weekday\"\n",
    "    case \"SAT\" | \"SUN\" => \n",
    "        \"Weekend\"\n",
    "}"
   ]
  },
  {
   "cell_type": "markdown",
   "metadata": {},
   "source": [
    "To prevent errors from disrupting your match expression, use a wildcard match-all pattern or else add enough patterns to cover all possible inputs. A wildcard pattern placed as the final pattern in a match expression will match all possible input patterns and prevent a `scala.MatchError` from occurring.\n",
    "\n",
    "### Matching with Wildcard Patterns\n",
    "\n",
    "There are two kinds of wildcard patterns you can use in a match expression: value binding and wildcard (aka “underscore”) operators.\n",
    "\n",
    "With ***value binding*** (aka ***variable binding***) the input to a match expression is bound to a local value, which can then be used in the body of the `case` block. Because the pattern contains the name of the value to be bound there is no actual pattern to match against, and thus value binding is a wildcard pattern because it will match any input value.\n",
    "\n",
    "> `case identifier => one or more expressions`\n",
    "\n",
    "Here is an example that tries to match a specific literal and otherwises uses value binding to ensure all other possible values are matched:"
   ]
  },
  {
   "cell_type": "code",
   "execution_count": 17,
   "metadata": {},
   "outputs": [
    {
     "data": {
      "text/plain": [
       "\u001b[36mmessage\u001b[39m: \u001b[32mString\u001b[39m = \u001b[32m\"Ok\"\u001b[39m\n",
       "\u001b[36mstatus\u001b[39m: \u001b[32mInt\u001b[39m = \u001b[32m200\u001b[39m"
      ]
     },
     "execution_count": 17,
     "metadata": {},
     "output_type": "execute_result"
    }
   ],
   "source": [
    "val message = \"Ok\"\n",
    "\n",
    "val status = message match {\n",
    "    case \"Ok\" => 200\n",
    "    case other => {\n",
    "        println(s\"Couldn't parse $other\")\n",
    "        -1\n",
    "    }\n",
    "}"
   ]
  },
  {
   "cell_type": "markdown",
   "metadata": {},
   "source": [
    "The value other is defined for the duration of the case block and is assigned the value of `message`, the input to the match expression.\n",
    "\n",
    "The other type of wildcard pattern is the use of the wildcard operator. This is an underscore (_) character that acts as an unnamed placeholder for the eventual value of an expression at runtime. As with value binding, the underscore operator doesn’t provide a pattern to match against, and thus it is a wildcard pattern that will match any input value.\n",
    "\n",
    "> `case _ => one or more expressions`\n",
    "\n",
    "The wildcard cannot be accessed on the right side of the arrow, unlike with value bind‐ ing. If you need to access the value of the wildcard in the case block, consider using a value binding, or just accessing the input to the match expression (if available)."
   ]
  },
  {
   "cell_type": "code",
   "execution_count": 18,
   "metadata": {},
   "outputs": [
    {
     "name": "stdout",
     "output_type": "stream",
     "text": [
      "Couldn't parse Unauthorized\n"
     ]
    },
    {
     "data": {
      "text/plain": [
       "\u001b[36mmessage\u001b[39m: \u001b[32mString\u001b[39m = \u001b[32m\"Unauthorized\"\u001b[39m\n",
       "\u001b[36mstatus\u001b[39m: \u001b[32mInt\u001b[39m = \u001b[32m-1\u001b[39m"
      ]
     },
     "execution_count": 18,
     "metadata": {},
     "output_type": "execute_result"
    }
   ],
   "source": [
    "val message = \"Unauthorized\"\n",
    "\n",
    "val status = message match {\n",
    "    case \"Ok\" => 200\n",
    "    case _ => {\n",
    "        println(s\"Couldn't parse $message\")\n",
    "        -1\n",
    "    }\n",
    "}"
   ]
  },
  {
   "cell_type": "markdown",
   "metadata": {},
   "source": [
    "In this case the underscore operator matches the runtime value of the input to the match expression. However, it can’t be accessed inside the `case` block as a bound value would, and thus the input to the match expression is used to create an informative `println` statement.\n",
    "\n",
    "### Matching with Pattern Guards\n",
    "\n",
    "A ***pattern guard*** adds an if expression to a value-binding pattern, making it possible to mix conditional logic into match expressions. When a pattern guard is used the pattern will only be matched when the `if` expression returns `true`.\n",
    "\n",
    "> `case pattern if Boolean expression => one or more expressions`\n",
    "\n",
    "Unlike regular `if` expressions, the `if` expression here doesn’t require parentheses (( and )) around its `Boolean` expression. Regular if expressions require the parentheses in order to simplify the job of parsing the full command and delineate the Boolean expression from the conditional expression. In this case the arrow (=>) handles that task and simplifies parsing. You can, however, add the parentheses around the Boolean ex‐ pression if you wish.\n",
    "\n",
    "Let’s use a pattern guard to differentiate between a nonnull and a null response and report the correct message:"
   ]
  },
  {
   "cell_type": "code",
   "execution_count": 19,
   "metadata": {},
   "outputs": [
    {
     "name": "stdout",
     "output_type": "stream",
     "text": [
      "Error! Received a null response\n"
     ]
    },
    {
     "data": {
      "text/plain": [
       "\u001b[36mresponse\u001b[39m: \u001b[32mString\u001b[39m = \u001b[32mnull\u001b[39m"
      ]
     },
     "execution_count": 19,
     "metadata": {},
     "output_type": "execute_result"
    }
   ],
   "source": [
    "val response: String = null\n",
    "\n",
    "response match {\n",
    "    case s if s != null => println(s\"Received '$s'\")\n",
    "    case s => println(\"Error! Received a null response\")\n",
    "}"
   ]
  },
  {
   "cell_type": "markdown",
   "metadata": {},
   "source": [
    "### Matching Types with Pattern Variables\n",
    "\n",
    "Another way to do pattern matching in a match expression is to match the ***type*** of the input expression. ***Pattern variables***, if matched, may convert the input value to a value with a different type. This new value and type can then be used inside the `case` block.\n",
    "\n",
    "> `case identifier: type => one or more expressions`\n",
    "\n",
    "The only restriction for pattern variable naming, other than the naming requirements already in place for values and variables, is that they must start with a lowercase letter.\n",
    "\n",
    "You might be considering the utility of using a match expression to determine a value’s type, given that all values have types and they are typically rather descriptive. The support of ***polymorphic*** types in Scala should be a clue to a match expression’s utility. A value of type `Int` may get assigned to another value of type `Any`, or it may be returned as `Any` from a Java or Scala library call. Although the data is indeed an `Int`, the value will have the higher type `Any`.\n",
    "\n",
    "Let’s reproduce this situation by creating an `Int`, assigning it to an `Any`, and using a match expression to resolve its true type:"
   ]
  },
  {
   "cell_type": "code",
   "execution_count": 20,
   "metadata": {},
   "outputs": [
    {
     "data": {
      "text/plain": [
       "\u001b[36mx\u001b[39m: \u001b[32mInt\u001b[39m = \u001b[32m12180\u001b[39m\n",
       "\u001b[36my\u001b[39m: \u001b[32mAny\u001b[39m = \u001b[32m12180\u001b[39m\n",
       "\u001b[36mres19_2\u001b[39m: \u001b[32mString\u001b[39m = \u001b[32m\"12180i\"\u001b[39m"
      ]
     },
     "execution_count": 20,
     "metadata": {},
     "output_type": "execute_result"
    }
   ],
   "source": [
    "val x: Int = 12180\n",
    "\n",
    "val y: Any = x\n",
    "\n",
    "y match {\n",
    "    case x: String => s\"x\"\n",
    "    case x: Double => f\"$x%.2f\"\n",
    "    case x: Float => f\"$x%.2f\"\n",
    "    case x: Long => s\"${x}l\"\n",
    "    case x: Int => s\"${x}i\"\n",
    "}"
   ]
  },
  {
   "cell_type": "markdown",
   "metadata": {},
   "source": [
    "Even though the value given to the match expression has the type `Any`, the data it is storing was created as an `Int`. The match expression was able to match based on the actual type of the value, not just on the type that it was given. Thus, the integer 12180, even when given as type `Any`, could be correctly recognized as an integer and formatted as such.\n",
    "\n",
    "## Loops\n",
    "\n",
    "Loops are the last expression-based control structure we’ll examine in this chapter. A ***loop*** is a term for exercising a task repeatedly, and may include iterating through a range of data or repeating until a Boolean expression returns false.\n",
    "\n",
    "The most important looping structure in Scala is the ***for-loop***, also known as a ***for-comprehension***. ***For-loops*** can iterate over a range of data executing an expression every time and optionally return a collection of all the expression’s return values. These for- loops are highly customizable, supporting nested iterating, filtering, and value binding.\n",
    "\n",
    "To get started we will introduce a new data structure called a Range, which iterates over a series of numbers. Ranges are created using the `to` or `until` operator with starting and ending integers, where the to operator creates an inclusive list and the `until` operator creates an exclusive list.\n",
    "\n",
    "> `starting integer [to|until] ending integer [by increment]`\n",
    "\n",
    "Next is the basic definition of a for-loop.\n",
    "\n",
    "> `for (indetifier <- iterator) [yield] [expression]`\n",
    "\n",
    "The `yield` keyword is optional. If it is specified along with an expression, the return value of every expression that gets invoked will be returned as a collection. If it isn’t specified, but the expression is still specified, the expression will be invoked but its return values will not be accessible.\n",
    "\n",
    "You can define for-loops with parentheses or curly braces. The difference between the two styles comes when using multiple iterators (or other valid for-loop items, as we’ll see), one on each line. With parentheses-based for-loops, each iterator line before the final one must end with a semicolon. With curly-braces-based for-loops, the semicolon after an iterator line is optional.\n",
    "\n",
    "Let’s start out printing a simple week planner by iterating over the days of a week, from 1 to 7 (inclusive), and printing out a header for each one:"
   ]
  },
  {
   "cell_type": "code",
   "execution_count": 22,
   "metadata": {},
   "outputs": [
    {
     "name": "stdout",
     "output_type": "stream",
     "text": [
      "Day 1:\n",
      "Day 2:\n",
      "Day 3:\n",
      "Day 4:\n",
      "Day 5:\n",
      "Day 6:\n",
      "Day 7:\n"
     ]
    }
   ],
   "source": [
    "for (x <- 1 to 7) { println(s\"Day $x:\") }"
   ]
  },
  {
   "cell_type": "markdown",
   "metadata": {},
   "source": [
    "The curly braces in the loop’s expression (really a statement here because there isn’t a `yield` keyword) are optional because there is only a single command, but I added them to make this look more like a traditional Java/C “for” loop.\n",
    "\n",
    "However, what if what I really need is a collection of these “Day X:” messages? Then I can reuse them in other ways, or print them out as many times as I need. The `yield` keyword is the solution. I can convert the iterated statement into an expression that returns each message instead of printing it out, and add the `yield` keyword to convert the entire loop into an expression that returns the collection:"
   ]
  },
  {
   "cell_type": "code",
   "execution_count": 24,
   "metadata": {},
   "outputs": [
    {
     "data": {
      "text/plain": [
       "\u001b[36mres23\u001b[39m: \u001b[32mcollection\u001b[39m.\u001b[32mimmutable\u001b[39m.\u001b[32mIndexedSeq\u001b[39m[\u001b[32mString\u001b[39m] = \u001b[33mVector\u001b[39m(\n",
       "  \u001b[32m\"Day 1:\"\u001b[39m,\n",
       "  \u001b[32m\"Day 2:\"\u001b[39m,\n",
       "  \u001b[32m\"Day 3:\"\u001b[39m,\n",
       "  \u001b[32m\"Day 4:\"\u001b[39m,\n",
       "  \u001b[32m\"Day 5:\"\u001b[39m,\n",
       "  \u001b[32m\"Day 6:\"\u001b[39m,\n",
       "  \u001b[32m\"Day 7:\"\u001b[39m\n",
       ")"
      ]
     },
     "execution_count": 24,
     "metadata": {},
     "output_type": "execute_result"
    }
   ],
   "source": [
    "for (x <- 1 to 7) yield { s\"Day $x:\" }"
   ]
  },
  {
   "cell_type": "markdown",
   "metadata": {},
   "source": [
    "This one is reporting that res10 has the type `IndexedSeq[String]`, an indexed sequence of `String`, and is assigned a `Vector`, one of the implementations of `IndexedSeq`. Because of Scala’s support for object-oriented polymorphism, a `Vector` (a subtype of IndexedSeq) can be assigned to an `IndexedSeq`-typed value.\n",
    "\n",
    "In a way you can consider this for-loop to be a `map`, because it takes the expression of rendering the day to a `String` and applies it for every member of the input range. We have used this to map the range of numbers from 1 to 7 into a collection of messages of the same size. Like other sequences, this collection can now be used as an iterator in other for-loops.\n",
    "\n",
    "Let’s try it out by creating a for-loop that iterates over the sequence we built and printing each message, this time all on the same line instead of on their own lines. Again we only have a single command in the iterated expression, so this time we will leave off the curly braces because they are not necessary here:"
   ]
  },
  {
   "cell_type": "code",
   "execution_count": 25,
   "metadata": {},
   "outputs": [
    {
     "name": "stdout",
     "output_type": "stream",
     "text": [
      "Day 1:, Day 2:, Day 3:, Day 4:, Day 5:, Day 6:, Day 7:, "
     ]
    }
   ],
   "source": [
    "for (day <- res23) print(day + \", \")"
   ]
  },
  {
   "cell_type": "markdown",
   "metadata": {},
   "source": [
    "### Iterator Guards\n",
    "\n",
    "Like a pattern guard in a match expression, an ***iterator guard*** (also known as a ***filter***) adds an if expression to an iterator. When an iterator guard is used, an iteration will be skipped unless the if expression returns `true`.\n",
    "\n",
    "> `for (identifier <- iterator if Boolean expression)...`\n",
    "\n",
    "Here is an example of using iterator guards to create a collection of numbers that are multiples of 3:"
   ]
  },
  {
   "cell_type": "code",
   "execution_count": 26,
   "metadata": {},
   "outputs": [
    {
     "data": {
      "text/plain": [
       "\u001b[36mres25\u001b[39m: \u001b[32mcollection\u001b[39m.\u001b[32mimmutable\u001b[39m.\u001b[32mIndexedSeq\u001b[39m[\u001b[32mInt\u001b[39m] = \u001b[33mVector\u001b[39m(\u001b[32m3\u001b[39m, \u001b[32m6\u001b[39m, \u001b[32m9\u001b[39m, \u001b[32m12\u001b[39m, \u001b[32m15\u001b[39m, \u001b[32m18\u001b[39m)"
      ]
     },
     "execution_count": 26,
     "metadata": {},
     "output_type": "execute_result"
    }
   ],
   "source": [
    "for (i <- 1 to 20 if i % 3 == 0) yield i"
   ]
  },
  {
   "cell_type": "markdown",
   "metadata": {},
   "source": [
    "An iterator guard can also appear on its own line, separate from the iterator. Here’s another example for-loop with separate iterator and iterator guards:"
   ]
  },
  {
   "cell_type": "code",
   "execution_count": 28,
   "metadata": {},
   "outputs": [
    {
     "name": "stdout",
     "output_type": "stream",
     "text": [
      "Faith\n",
      "Hope\n",
      "Charity\n"
     ]
    },
    {
     "data": {
      "text/plain": [
       "\u001b[36mquote\u001b[39m: \u001b[32mString\u001b[39m = \u001b[32m\"Faith,Hope,,Charity\"\u001b[39m"
      ]
     },
     "execution_count": 28,
     "metadata": {},
     "output_type": "execute_result"
    }
   ],
   "source": [
    "val quote = \"Faith,Hope,,Charity\"\n",
    "\n",
    "for {\n",
    "    t <- quote.split(\",\")\n",
    "    if t != null\n",
    "    if t.size > 0\n",
    "}\n",
    "{ println(t) }"
   ]
  },
  {
   "cell_type": "markdown",
   "metadata": {},
   "source": [
    "### Nested Iterators\n",
    "\n",
    "***Nested iterators*** are extra iterators added to a for-loop, multiplying the total number of iterations by their iterator count. They are called ***nested iterators*** because adding them to an existing loop has the same effect as if they were written as a separate nested loop. Because the total number of iterations is the product of all of the iterators, adding a nested loop that will iterate once will not change the number of iterations, whereas a nested loop that does not iterate will cancel all iterations."
   ]
  },
  {
   "cell_type": "code",
   "execution_count": 29,
   "metadata": {},
   "outputs": [
    {
     "name": "stdout",
     "output_type": "stream",
     "text": [
      "(1, 1) (1, 2) (1, 3) (2, 1) (2, 2) (2, 3) "
     ]
    }
   ],
   "source": [
    "for { x <- 1 to 2\n",
    "      y <- 1 to 3 }\n",
    "{ print(s\"($x, $y) \") }"
   ]
  },
  {
   "cell_type": "markdown",
   "metadata": {},
   "source": [
    "### Value Binding\n",
    "\n",
    "A common tactic in for-loops is to define temporary values or variables inside the ex‐ pression block based on the current iteration. An alternate way to do this in Scala is to use ***value binding*** in the for-loop’s definition, which works the same but can help to minimize the size and complexity of the expression block. Bound values can be used for nested iterators, iterator guards, and other bound values.\n",
    "\n",
    "> `for (identifier <- iterator; identifier = expression) ...`\n",
    "\n",
    "In this example I will use the “left-shift” binary operator (<<) on an `Int` to compute the powers of two from zero to eight. The argument to the operator is the number of times to “shift” the number leftwards by one bit, effectively mupltiplying it by two. The result of each operation is bound to the value “pow” in the current iteration:"
   ]
  },
  {
   "cell_type": "code",
   "execution_count": 30,
   "metadata": {},
   "outputs": [
    {
     "data": {
      "text/plain": [
       "\u001b[36mpowersOf2\u001b[39m: \u001b[32mcollection\u001b[39m.\u001b[32mimmutable\u001b[39m.\u001b[32mIndexedSeq\u001b[39m[\u001b[32mInt\u001b[39m] = \u001b[33mVector\u001b[39m(\n",
       "  \u001b[32m1\u001b[39m,\n",
       "  \u001b[32m2\u001b[39m,\n",
       "  \u001b[32m4\u001b[39m,\n",
       "  \u001b[32m8\u001b[39m,\n",
       "  \u001b[32m16\u001b[39m,\n",
       "  \u001b[32m32\u001b[39m,\n",
       "  \u001b[32m64\u001b[39m,\n",
       "  \u001b[32m128\u001b[39m,\n",
       "  \u001b[32m256\u001b[39m\n",
       ")"
      ]
     },
     "execution_count": 30,
     "metadata": {},
     "output_type": "execute_result"
    }
   ],
   "source": [
    "val powersOf2 = for (i <- 0 to 8; pow = 1 << i) yield pow"
   ]
  },
  {
   "cell_type": "markdown",
   "metadata": {},
   "source": [
    "The “pow” value is defined and assigned for each iteration in the loop. Because that value is yielded by the for-loop, the result is a collection of the “pow” value from each iteration.\n",
    "\n",
    "Value binding within the definition of a for-loop makes it possible to centralize most of the loop’s logic inside the definition. The result is a more compact for-loop with an even more compact yield expression (if used)."
   ]
  },
  {
   "cell_type": "markdown",
   "metadata": {},
   "source": [
    "### While and Do/While Loops\n",
    "\n",
    "In addition to for-loops Scala also supports “while” and “do/while” loops, which repeat a statement until a Boolean expression returns false. These are not as commonly used as for-loops in Scala, however, because they are not expressions and cannot be used to yield values.\n",
    "\n",
    "> `while (Boolean expression) statement`\n",
    "\n",
    "As a very simple example here is a while loop that decrements a number repeatedly until it is no longer greater than zero:"
   ]
  },
  {
   "cell_type": "code",
   "execution_count": 38,
   "metadata": {},
   "outputs": [
    {
     "data": {
      "text/plain": [
       "\u001b[36mx\u001b[39m: \u001b[32mInt\u001b[39m = \u001b[32m0\u001b[39m"
      ]
     },
     "execution_count": 38,
     "metadata": {},
     "output_type": "execute_result"
    }
   ],
   "source": [
    "var x = 10; while (x > 0) x -= 1"
   ]
  },
  {
   "cell_type": "markdown",
   "metadata": {},
   "source": [
    "The “do/while” loop is similar but the statement is executed ***before*** the Boolean expression is first evaluated. In this example I have a Boolean expression that will return false, but is only checked after the statement has had a chance to run:"
   ]
  },
  {
   "cell_type": "code",
   "execution_count": 39,
   "metadata": {},
   "outputs": [
    {
     "name": "stdout",
     "output_type": "stream",
     "text": [
      "Here I am, x = 0\n"
     ]
    },
    {
     "data": {
      "text/plain": [
       "\u001b[36mx\u001b[39m: \u001b[32mInt\u001b[39m = \u001b[32m0\u001b[39m"
      ]
     },
     "execution_count": 39,
     "metadata": {},
     "output_type": "execute_result"
    }
   ],
   "source": [
    "val x = 0\n",
    "\n",
    "do println(s\"Here I am, x = $x\") while (x > 0)"
   ]
  },
  {
   "cell_type": "markdown",
   "metadata": {},
   "source": [
    "The `while` and `do`/`while` loops may have their uses, for example if you’re reading from a socket and need to continue iterating until there is no more content to read. However, Scala offers a number of more expressive `and` more functional ways to handle loops than while and do/while loops. "
   ]
  }
 ],
 "metadata": {
  "kernelspec": {
   "display_name": "Scala",
   "language": "scala",
   "name": "scala"
  },
  "language_info": {
   "codemirror_mode": "text/x-scala",
   "file_extension": ".scala",
   "mimetype": "text/x-scala",
   "name": "scala",
   "nbconvert_exporter": "script",
   "version": "2.12.9"
  }
 },
 "nbformat": 4,
 "nbformat_minor": 4
}
