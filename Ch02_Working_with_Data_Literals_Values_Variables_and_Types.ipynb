{
 "cells": [
  {
   "cell_type": "markdown",
   "metadata": {},
   "source": [
    "# Working with Data: Literals, Values, Variables, and Types\n",
    "\n",
    "-        A ***literal*** (or literal data) is data that appears directly in the source code, like the number 5, the character A, and the text “Hello, World.”\n",
    "-        A ***value*** is an immutable, typed storage unit. A value can be assigned data when it is defined, but can never be reassigned.\n",
    "-        A ***variable*** is a mutable, typed storage unit. A variable can be assigned data when it is defined and can also be reassigned data at any time.\n",
    "-        A ***type*** is the kind of data you are working with, a definition or classification of data. All data in Scala corresponds to a specific type, and all Scala types are defined as classes with methods that operate on the data.\n",
    "\n",
    "The data stored in values and variables in Scala will get automatically deallocated by the Java Virtual Machine’s garbage collection when they are no longer used. There is no ability, or need, to deallocate them manually.\n",
    "\n",
    "Scala values are defined with the syntax val <name>: <type> = <literal>, so we will create a value with the name x, type Int (short for “integer”), and assigned it the literal number 5:"
   ]
  },
  {
   "cell_type": "code",
   "execution_count": 7,
   "metadata": {},
   "outputs": [
    {
     "name": "stdout",
     "output_type": "stream",
     "text": [
      "x is: 5\n",
      "and is of type: int\n"
     ]
    },
    {
     "data": {
      "text/plain": [
       "x = 5\n"
      ]
     },
     "metadata": {},
     "output_type": "display_data",
     "source": "user"
    },
    {
     "data": {
      "text/plain": [
       "5"
      ]
     },
     "execution_count": 7,
     "metadata": {},
     "output_type": "execute_result"
    }
   ],
   "source": [
    "val x: Int = 5\n",
    "\n",
    "println(\"x is: \" + x + \"\\nand is of type: \" + x.getClass)"
   ]
  },
  {
   "cell_type": "code",
   "execution_count": 3,
   "metadata": {},
   "outputs": [
    {
     "data": {
      "text/plain": [
       "10"
      ]
     },
     "execution_count": 3,
     "metadata": {},
     "output_type": "execute_result"
    }
   ],
   "source": [
    "x * 2"
   ]
  },
  {
   "cell_type": "code",
   "execution_count": 4,
   "metadata": {},
   "outputs": [
    {
     "data": {
      "text/plain": [
       "1"
      ]
     },
     "execution_count": 4,
     "metadata": {},
     "output_type": "execute_result"
    }
   ],
   "source": [
    "x / 5"
   ]
  },
  {
   "cell_type": "markdown",
   "metadata": {},
   "source": [
    "## Values\n",
    "\n",
    "Values are immutable, typed storage units, and by convention are the default method for storing data. You can define a new value using the val keyword. Syntax: Defining a Value:\n",
    "\n",
    "> `val <identifier>[: <type>] = <data>`\n",
    "\n",
    "Values require both a name and assigned data, but they do not require an explicit type. If the type is not specified (i.e., the “: <type>” syntax is not included), the Scala compiler will infer the type based on the assigned data. The Scala compiler will then discern the type of the value from its assignment, a process known as ***type inference***. Values defined without a type are not typeless; they are assigned the proper type just as if the type had been included in the definition."
   ]
  },
  {
   "cell_type": "code",
   "execution_count": 10,
   "metadata": {},
   "outputs": [
    {
     "name": "stdout",
     "output_type": "stream",
     "text": [
      "greeting type: class java.lang.String\n",
      "x type: int\n",
      "atSymbol type: char\n"
     ]
    },
    {
     "data": {
      "text/plain": [
       "greeting = Hello, World\n",
       "x = 20\n",
       "atSymbol = @\n"
      ]
     },
     "metadata": {},
     "output_type": "display_data",
     "source": "user"
    },
    {
     "data": {
      "text/plain": [
       "@"
      ]
     },
     "execution_count": 10,
     "metadata": {},
     "output_type": "execute_result"
    }
   ],
   "source": [
    "val greeting = \"Hello, World\"\n",
    "val x = 20\n",
    "val atSymbol = '@'\n",
    "\n",
    "println(\"greeting type: \" + greeting.getClass)\n",
    "println(\"x type: \" + x.getClass)\n",
    "println(\"atSymbol type: \" + atSymbol.getClass)"
   ]
  },
  {
   "cell_type": "markdown",
   "metadata": {},
   "source": [
    "Using Scala’s type inference is a helpful shortcut when writing code because it removes the need to explicitly write the type of a value. As a guideline it should only be used when it does not reduce the readability of your code. In the case that someone reading your code would not be able to figure out what the type of the value is, it would be better to include the explicit type in the value definition.\n",
    "\n",
    "Although type inference will deduce the correct type to use to store data, it will not override an explicit type that you set. If you define a value with a type that is incompatible with the initial value you will get a compilation error:"
   ]
  },
  {
   "cell_type": "code",
   "execution_count": 11,
   "metadata": {},
   "outputs": [
    {
     "data": {
      "text/plain": [
       "Name: Compile Error\n",
       "Message: <console>:25: error: type mismatch;\n",
       " found   : String(\"Hello\")\n",
       " required: Int\n",
       "       val x: Int = \"Hello\"\n",
       "                    ^\n",
       "\n",
       "StackTrace: "
      ]
     },
     "execution_count": 11,
     "metadata": {},
     "output_type": "execute_result"
    }
   ],
   "source": [
    "val x: Int = \"Hello\""
   ]
  },
  {
   "cell_type": "markdown",
   "metadata": {},
   "source": [
    "## Variables\n",
    "\n",
    "In computer science the term variable typically refers to a unique identifier corre‐ sponding to an allocated or reserved memory space, into which values can be stored and from which values can be retrieved. As long as the memory space is reserved, it can be assigned new values over and over again. Thus, the contents of the memory space are dynamic, or ***variable***.\n",
    "\n",
    "In most languages, such as C, Java, PHP, Python, and Ruby, this is the typical pattern for working with named, assignable memory storage. Variables are dynamic, mutable, and reassignable. \n",
    "\n",
    "In Scala, values are preferred over variables by convention, due to the stability and predictability they bring to source code. When you define a value you can be assured that it will retain the same value regardless of any other code that may access it. Reading and debugging code is easier when a value assigned at the beginning of a code segment is unchanged through the end of the code segment. Finally, when working with data that may be available for the life span of an application, or accessible from concurrent or multithreaded code, an immutable value will be more stable and less prone to errors than mutable data that may be modified at unexpected times.\n",
    "\n",
    "The var keyword is used to define a variable with a given name, type, and assignment.\n",
    "\n",
    "> `var <identifier>[: <type>] = <data>`\n",
    "\n",
    "Like values, variables can be defined with or without an explicit type. If no type is specified the Scala compiler will use type inference to determine the correct type to assign to your variable. Unlike values, variables can be reassigned new data at any time.\n",
    "\n",
    "## Naming\n",
    "\n",
    "Scala names can use letters, numbers, and a range of special operator characters. This makes it possible to use standard mathematical operators (e.g., * and :+) and constants (e.g., π and φ) in place of longer names to make the code more expressive.\n",
    "\n",
    "The Scala Language Specification defines these operator characters as “all other char‐ acters in \\u0020-007F and Unicode categories Sm [Symbol/Math] ... except parentheses ([]) and periods.” Square brackets (referred to in the text as parentheses) are reserved for use in type parameterization, while periods are reserved for access to the fields and methods of objects (instantiated types).\n",
    "\n",
    "Here are the rules for combining letters, numbers, and characters into valid identifiers in Scala:\n",
    "1. A letter followed by zero or more letters and digits.\n",
    "2. A letter followed by zero or more letters and digits, then an underscore (_), and then one or more of either letters and digits or operator characters.\n",
    "3. One or more operator characters.\n",
    "4. One or more of any character except a backquote, all enclosed in a pair of backquotes.\n",
    "\n",
    "## Types\n",
    "\n",
    "Scala has both numeric (e.g., Int and Double) and nonnumeric types (e.g., String) that can be used to define values and variables. These core types are the building blocks for all other types including objects and collections, and are themselves objects that have methods and operators that act on their data.\n",
    "\n",
    "Unlike Java and C there is no concept of a primitive type in Scala. While the Java Virtual Machine supports the primitive integer type int and the integer class Integer, Scala only supports its own integer class, Int.\n",
    "\n",
    "## Numeric Data Types\n",
    "\n",
    "|Name | Description | Size | Min | Max|\n",
    "|-----|-----|-----|-----|-----|\n",
    "|Byte | Signed integer|  1 byte| –127 | 128|\n",
    "|Short | Signed integer | 2 bytes | –32768 | 32767|\n",
    "|Int | Signed integer | 4 bytes | –2^31 | 2^31–1|\n",
    "|Long | Signed integer | 8 bytes | –2^63 | 2^63–1|\n",
    "|Float | Signed floating point | 4 bytes | n/a | n/a|\n",
    "|Double | Signed floating point | 8 bytes |n/a | n/a|\n",
    "\n",
    "Scala supports the ability to automatically convert numbers from one type to another based on the rank of the type. \n",
    "\n",
    "Scala does not allow automatic conversion from higher ranked types to lower ranked types. This makes sense, because you could otherwise lose data if you convert to a type with less storage. \n",
    "\n",
    "You can choose to manually convert between types using the toType methods available on all numeric types. Although this makes it possible to lose data by converting to a lesser ranked type, it is useful when you know that the data is compatible with the lower ranked type.\n",
    "\n",
    "## Strings\n",
    "\n",
    "The String type represents “strings” of text, one of the most common core types in any programming language. Scala’s String is built on Java’s String and adds unique fea‐ tures like multiline literals and string interpolation.\n",
    "\n",
    "Like numeric types, the String type supports the use of math operators. For example, use the equals operator (==) to compare two String values. Unlike Java, the equals operator (==) checks for true equality, not object reference equality.\n",
    "\n",
    "A multiline String can be created using triple-quotes. Multiline strings are literal, and so do not recognize the use of backslashes as the start of special characters.\n",
    "\n",
    "### String Interpolation\n",
    "\n",
    "A more direct way to combine your values or variables inside a String is with string interpolation, a special mode where external value and variable names are recognized and resolved. The Scala notation for string interpolation is an “s” prefix added before the first double quote of the string. Then dollar sign operators ($) (with optional braces) can be used to note references to external data."
   ]
  },
  {
   "cell_type": "code",
   "execution_count": 12,
   "metadata": {},
   "outputs": [
    {
     "data": {
      "text/plain": [
       "approx = 3.141593\n"
      ]
     },
     "metadata": {},
     "output_type": "display_data",
     "source": "user"
    },
    {
     "data": {
      "text/plain": [
       "3.141593"
      ]
     },
     "execution_count": 12,
     "metadata": {},
     "output_type": "execute_result"
    }
   ],
   "source": [
    "val approx = 355/113f"
   ]
  },
  {
   "cell_type": "code",
   "execution_count": 13,
   "metadata": {},
   "outputs": [
    {
     "name": "stdout",
     "output_type": "stream",
     "text": [
      "Pi, using 355/113, is about 3.141593.\n"
     ]
    }
   ],
   "source": [
    "println(s\"Pi, using 355/113, is about $approx.\")"
   ]
  },
  {
   "cell_type": "markdown",
   "metadata": {},
   "source": [
    "An alternate format for string interpolation uses printf notation, very useful when you want to control the data formatting such as the character count or display of decimal values. To use `printf` notation change the prefix to an “f” and follow the end of the reference immediately with the printf notation."
   ]
  },
  {
   "cell_type": "code",
   "execution_count": 15,
   "metadata": {},
   "outputs": [
    {
     "name": "stdout",
     "output_type": "stream",
     "text": [
      "I wrote a new app today\n",
      "Enjoying this apple 3.14159 times today\n"
     ]
    },
    {
     "data": {
      "text/plain": [
       "item = apple\n"
      ]
     },
     "metadata": {},
     "output_type": "display_data",
     "source": "user"
    },
    {
     "data": {
      "text/plain": [
       "apple"
      ]
     },
     "execution_count": 15,
     "metadata": {},
     "output_type": "execute_result"
    }
   ],
   "source": [
    "val item = \"apple\"\n",
    "\n",
    "println(f\"I wrote a new $item%.3s today\")\n",
    "\n",
    "println(f\"Enjoying this $item ${355/113.0}%.5f times today\")"
   ]
  },
  {
   "cell_type": "markdown",
   "metadata": {},
   "source": [
    "### Regular Expressions\n",
    "\n",
    "A ***regular expression*** is a string of characters and punctuation that represents a search pattern. Popularized by Perl and command-line utilities like Grep, regular expressions are a standard feature in the libraries of most programming languages including Scala.\n",
    "\n",
    "The format for Scala’s regular expressions is based on the Java class java.util.regex.Pattern. I recommend reading the Javadoc (the Java API documen‐ tation) for java.util.regex.Pattern if you are unfamiliar with this type, because Java’s (and thus Scala’s) regular expressions may be different from the format you have used with other languages and tools.\n",
    "\n",
    "| Name | Example | Description |\n",
    "|-----|-----|-----|\n",
    "|matches | \"Froggy went a' courting\" matches \".* courting\" | Returns true if the regular expression matches the entire string. |\n",
    "|replaceAll | \"milk, tea, muck\" replaceAll (\"m[^ ] +k\", \"coffee\") | Replaces all matches with replacement text. |\n",
    "|replaceFirst | \"milk,tea,muck\"replaceFirst(\"m[^]+k\", \"coffee\") | Replaces the first match with replacement text. |\n",
    "\n",
    "For more advanced handling of regular expressions, convert a string to a regular ex‐ pression type by invoking its r operator. This will return a Regex instance that can handle additional search and replace operations as well as capture group support. A *capture group* makes it possible to select items in a given string and convert them to local values based on the regular expression pattern. The pattern must include at least one capture group defined by parentheses, and the input must include at least one of the captured patterns to return the value.\n",
    "\n",
    "> `val <Regex value>(<identifier>) = <input string>`\n",
    "\n",
    "We’ll use multiline strings to store our regular expression pattern, because they are literal and allow us to write a backslash without a second, escaping backslash:"
   ]
  },
  {
   "cell_type": "code",
   "execution_count": 16,
   "metadata": {},
   "outputs": [
    {
     "data": {
      "text/plain": [
       "input = Enjoying this apple 3.14159 times today\n",
       "pattern = .* apple ([\\d.]+) times .*\n",
       "amountText = 3.14159\n",
       "amount = 3.14159\n"
      ]
     },
     "metadata": {},
     "output_type": "display_data",
     "source": "user"
    },
    {
     "data": {
      "text/plain": [
       "3.14159"
      ]
     },
     "execution_count": 16,
     "metadata": {},
     "output_type": "execute_result"
    }
   ],
   "source": [
    "val input = \"Enjoying this apple 3.14159 times today\"\n",
    "\n",
    "val pattern = \"\"\".* apple ([\\d.]+) times .*\"\"\".r\n",
    "\n",
    "val pattern(amountText) = input\n",
    "\n",
    "val amount = amountText.toDouble"
   ]
  },
  {
   "cell_type": "markdown",
   "metadata": {},
   "source": [
    "Regular expressions serve as a compact and efficient means to process text, with operations such as matching, replacing, and capturing. If you are still new to regular ex‐ pressions, it is worth investing time to study them because they are widely applicable in modern software development.\n",
    "\n",
    "## An Overview of Scala Types\n",
    "\n",
    "<img src=\"https://trevorj-media.s3-us-west-2.amazonaws.com/images/Screen+Shot+2020-07-28+at+9.44.01+AM.png\" width=750px>\n",
    "\n",
    "All of Scala’s types, from numbers to strings to collections, exist as part of a type hierarchy. Every class that you define in Scala will also belong to this hierarchy automatically.\n",
    "\n",
    "| Name | Description | Instantiable |\n",
    "| -----|-----|-----|\n",
    "| Any | The root of all types in Scala | No | \n",
    "| AnyVal | The root of all value types | No |\n",
    "| AnyRef | The root of all reference (nonvalue) types | No | \n",
    "| Nothing | The subclass of all types | No | \n",
    "| Null | The subclass of all AnyRef types signifying a null value | No |\n",
    "| Char | Unicode character | Yes |\n",
    "| Boolean | true or false | Yes | \n",
    "| String | A string of characters (i.e., text) | Yes |\n",
    "| Unit | Denotes the lack of a value | No |"
   ]
  },
  {
   "cell_type": "markdown",
   "metadata": {},
   "source": [
    "The `Any`, `AnyVal`, and `AnyRef` types are the root of Scala’s type hierarchy. Any is the absolute root, and all other types descend from its two children, `AnyVal` and `AnyRef`. The types that extend `AnyVal` are known as ***value types*** because they are the core values used to represent data. They include all of the numeric types we have covered plus `Char`, `Boolean`, and `Unit`. `AnyVal` types are accessed just like other types but may be allocated at runtime either on the heap as objects or locally on the stack as a JVM primitive value. All other types have `AnyRef` as their root and are only ever allocated on the heap as objects. The term “Ref” in “AnyRef” indicates they they are reference types that are accessed via a memory reference.\n",
    "\n",
    "At the bottom of the Scala type hierarchy are the `Nothing` and `Null` types. `Nothing` is a subtype of every other type and exists to provide a compatible return type for operations that significantly affect a program’s flow. For example, the `return` keyword, which exits a function early with a return value, has a return type of `Nothing` so it can be used in the middle of initializing a value and not affect the type of that value. `Nothing` is only used as a type, because it cannot be instantiated.\n",
    "\n",
    "The other bottom type is `Null`, a subtype of all `AnyRef` types that exists to provide a type for the keyword `null`. A `String` variable, for example, can be assigned `null` at any time, such that the variable does not point to any string instance in memory. This assignment of `null` to a variable declared as type `String` is acceptable because `null` is a compatible type for String. Defining a type for `null` is an example of how Scala’s syntax prefers the use of real types and instances to reserved keywords.\n",
    "\n",
    "`Char` is the only type that could also appear in “Numeric Data Types”. As the basis of the `String` type it contains a single character and so is sometimes considered to be a unit of text. Essentially it is a scalar type that can be converted to and from other numbers.\n",
    "\n",
    "`Char` literals are written with single quotes, distinguishing them from String literals, which are written with double quotes.\n",
    "\n",
    "The `Boolean` type is limited to the values `true` and `false`. In addition to using true and false, you can also obtain Boolean values from comparison and Boolean logic operators.\n",
    "\n",
    "> What is the Difference Between & and &&?\n",
    ">> The Boolean comparison operators && and || are lazy in that they will not bother evaluating the second argument if the first argument is sufficient. The operators & and | will always check both arguments before returning a result.\n",
    "\n",
    "Unlike many dynamic languages, Scala does not support automatic conversion of other types to `Booleans`. A `nonnull` string cannot be evaluated as true, and the number zero does not equal false. If you need to evaluate a value’s state to a Boolean, use an explicit comparison.\n",
    "\n",
    "The `Unit` type is unlike the other core types here (numeric and nonnumeric) in that instead of denoting a type of data it denotes the lack of data. In a way it is similar to the `void` keyword used in Java and C, which is used to define a function that doesn’t return data. The `Unit` type is similarly used in Scala as the return type for functions or expressions that don’t return anything. For example, the common `println` function could be said to return a `Unit` type because it returns nothing.\n",
    "\n",
    "The `Unit` literal is an empty pair of parentheses, (), which if you consider it is a fine representation of not having a value. If you want you can define a value or variable with the `Unit` type, but again its common usage is for defining functions and expressions.\n",
    "\n",
    "### Type Operations\n",
    "\n",
    "| Name | Example | Description |\n",
    "|-----|-----|-----|\n",
    "| asInstanceOf[type] | 5.asInstanceOf[Long] | Converts the value to a value of the desired type. Causes an error if the value is not compatible with the new type. | \n",
    "| getClass | (7.0 / 5).getClass | Returns the type (i.e., the class) of a value. | \n",
    "| isInstanceOf | (5.0).isInstanceOf[Float] | Returns true if the value has the given type. | \n",
    "| hashCode | \"A\".hashCode | Returns the hash code of the value, useful for hash- based collections. |\n",
    "| to[type] | 20.toByte; 47.toFloat | Conversion functions to convert a value to a compatible value. |\n",
    "| toString | (3.0 / 4.0).toString |  Renders the value to a `String`. |\n",
    "\n",
    "\n",
    "> Avoid `asInstanceOf`\n",
    ">> The asInstanceOf operation will cause an error if the value can‐ not be converted to the requested type. To avoid runtime errors with this operation, prefer the to[type] typed conversion operations when possible.\n",
    "\n",
    "## Tuples\n",
    "\n",
    "A tuple is an ordered container of two or more values, all of which may have different types. You may be familiar with this term from working with relational databases, where a single row of a table is considered its own tuple. Tuples can be useful when you need to logically group values, representing them as a coherent unit. Unlike lists and arrays, however, there is no way to iterate through elements in a tuple. Its purpose is only as a container for more than one value.\n",
    "\n",
    "You can create a tuple by writing your values separated by a comma and surrounded by a pair of parentheses.\n",
    "\n",
    "> `( value1, value2, [value3, ...])`\n",
    "\n",
    "Tuples provide a generic means to structure data, and are useful when you need to group discrete elements for handling.\n"
   ]
  }
 ],
 "metadata": {
  "kernelspec": {
   "display_name": "Apache Toree - Scala",
   "language": "scala",
   "name": "apache_toree_scala"
  },
  "language_info": {
   "codemirror_mode": "text/x-scala",
   "file_extension": ".scala",
   "mimetype": "text/x-scala",
   "name": "scala",
   "pygments_lexer": "scala",
   "version": "2.11.12"
  }
 },
 "nbformat": 4,
 "nbformat_minor": 4
}
