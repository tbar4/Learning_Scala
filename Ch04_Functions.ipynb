{
 "cells": [
  {
   "cell_type": "markdown",
   "metadata": {},
   "source": [
    "# Functions\n",
    "\n",
    "***Functions*** are the core building blocks of reusable logic. ***Functional programming languages*** are geared to support the creation of highly reusable and composable functions and to help developers organize their code base around them. Much like a Unix power user will compose multiple single-purpose tools into a complex piped command, a functional programmer will combine single-purpose function invocations into chains of operations (think Map/Reduce). A function that was written with a simple purpose (e.g., to double a number) may be picked up and applied across a 50,000-node list, or given to an actor to be executed locally or in a remote server.\n",
    "\n",
    "In Scala, ***functions*** are named, reusable expressions. They may be parameterized and they may return a value, but neither of these features are required. These features are, however, useful for ensuring maximum reusability and composability. They will also help you write shorter, more readable, and more stable applications. Using parameter‐ ized functions you can normalize duplicated code, simplifying your logic and making it more discoverable. Testing your code becomes easier, because normalized and para‐ meterized logic is easier to test than denormalized logic repeated throughout your code.\n",
    "\n",
    "Even greater benefits may come from following standard functional programming methodology and building ***pure functions*** when possible. In functional programming a ***pure function*** is one that:\n",
    "\n",
    "* Has one or more input parameters\n",
    "* Performs calculations using only the input parameters\n",
    "* Returns a value\n",
    "* Always returns the same value for the same input\n",
    "* Does not use or affect any data outside the function\n",
    "* Is not affected by any data outside the function\n",
    "\n",
    "Pure functions are essentially equivalent to functions in mathematics, where the defi‐ nition is a calculation derived only from the input parameters, and are the building blocks for programs in functional programming. They are more stable than functions that do not meet these requirements because they are stateless and orthogonal to ex‐ ternal data such as files, databases, sockets, global variables, or other shared data. In essence, they are uncorruptible and noncorrupting expressions of pure logic.\n",
    "\n",
    "On the other hand, it can be really hard to write useful applications that don’t affect files, databases, or sockets, so it is rare to write one that only contains pure functions. Instead of trying to find a way to exlusively use pure functions in their applications, Scala de‐ velopers will generally compromise and seek ways to reduce the number of unpure functions. Keeping unpure functions clearly named and organized in such a way that they can be easily identified versus pure functions is a common goal of modularizing and organizing Scala applications.\n",
    "\n",
    "With this in mind, let’s learn how to write functions in Scala. Because Scala’s function definitions are flexible, with several optional components, we’ll start with the most basic type first.\n",
    "\n",
    "> `def identifier = expression`\n",
    "\n",
    "At its most basic, a Scala function is a named wrapper for an expression. When you need a function to format the current data, check a remote service for new data, or just to return a fixed value, this is the format for you. Here is an example of defining and invoking input-less functions:"
   ]
  },
  {
   "cell_type": "code",
   "execution_count": 3,
   "metadata": {},
   "outputs": [
    {
     "data": {
      "text/plain": [
       "defined \u001b[32mfunction\u001b[39m \u001b[36mhi\u001b[39m\n",
       "\u001b[36mres2_1\u001b[39m: \u001b[32mString\u001b[39m = \u001b[32m\"hi\"\u001b[39m"
      ]
     },
     "execution_count": 3,
     "metadata": {},
     "output_type": "execute_result"
    }
   ],
   "source": [
    "def hi = \"hi\"\n",
    "\n",
    "hi"
   ]
  },
  {
   "cell_type": "markdown",
   "metadata": {},
   "source": [
    "The return type of functions, as with values and variables, are present even if they are not explicitly defined. And like values and variables, functions are easier to read with explicit types.\n",
    "\n",
    "> `def identifier: type = expression`\n",
    "\n",
    "This function definition is also input-less, but it demonstrates the “colon-and-type” format from value and variable definitions for function definitions. Here’s the “hi” function again with an explicit type for better readability:"
   ]
  },
  {
   "cell_type": "code",
   "execution_count": 5,
   "metadata": {},
   "outputs": [
    {
     "data": {
      "text/plain": [
       "defined \u001b[32mfunction\u001b[39m \u001b[36mhi\u001b[39m\n",
       "\u001b[36mres4_1\u001b[39m: \u001b[32mString\u001b[39m = \u001b[32m\"hi\"\u001b[39m"
      ]
     },
     "execution_count": 5,
     "metadata": {},
     "output_type": "execute_result"
    }
   ],
   "source": [
    "def hi: String = \"hi\"\n",
    "\n",
    "hi"
   ]
  },
  {
   "cell_type": "markdown",
   "metadata": {},
   "source": [
    "Now we’re ready to look at a full function definition.\n",
    "\n",
    "> `def identifier(identifier: type[,...]): type = expression`\n",
    "\n",
    "Let’s try creating a function that performs an essential mathematical operation:"
   ]
  },
  {
   "cell_type": "code",
   "execution_count": 6,
   "metadata": {},
   "outputs": [
    {
     "data": {
      "text/plain": [
       "defined \u001b[32mfunction\u001b[39m \u001b[36mmultiplier\u001b[39m\n",
       "\u001b[36mres5_1\u001b[39m: \u001b[32mInt\u001b[39m = \u001b[32m42\u001b[39m"
      ]
     },
     "execution_count": 6,
     "metadata": {},
     "output_type": "execute_result"
    }
   ],
   "source": [
    "def multiplier(x: Int, y: Int): Int = { x * y }\n",
    "\n",
    "multiplier(6, 7)"
   ]
  },
  {
   "cell_type": "markdown",
   "metadata": {},
   "source": [
    "The body of these functions consists essentially of expressions or expression blocks, where the final line becomes the return value of the expression and thus the function. You can use the return keyword to specify a function’s return value explicitly and exit the function. A common use of an early function exit is to stop further execution in the case of invalid or abnormal input values. For example, this “trim” function validates that the input value is nonnull before calling the JVM String’s “trim” method:"
   ]
  },
  {
   "cell_type": "code",
   "execution_count": 7,
   "metadata": {},
   "outputs": [
    {
     "data": {
      "text/plain": [
       "defined \u001b[32mfunction\u001b[39m \u001b[36msafeTrim\u001b[39m"
      ]
     },
     "execution_count": 7,
     "metadata": {},
     "output_type": "execute_result"
    }
   ],
   "source": [
    "def safeTrim(s: String): String = {\n",
    "    if (s == null) return null\n",
    "    s.trim()\n",
    "}"
   ]
  },
  {
   "cell_type": "markdown",
   "metadata": {},
   "source": [
    "## Procedures\n",
    "\n",
    "A ***procedure*** is a function that doesn’t have a return value. Any function that ends with a statement, such as a println() call, is also a procedure. If you have a simple function without an explicit return type that ends with a statement, the Scala compiler will infer the return type of the function to be Unit, the lack of a value. For procedures greater than a single line, an explicit unit type of Unit will clearly indicate to readers that there is no return value.\n",
    "\n",
    "Here is a simple logging procedure, defined with an implicit return type and then with an explict return type:\n",
    "\n",
    "> `def log"
   ]
  }
 ],
 "metadata": {
  "kernelspec": {
   "display_name": "Scala",
   "language": "scala",
   "name": "scala"
  },
  "language_info": {
   "codemirror_mode": "text/x-scala",
   "file_extension": ".scala",
   "mimetype": "text/x-scala",
   "name": "scala",
   "nbconvert_exporter": "script",
   "version": "2.12.9"
  }
 },
 "nbformat": 4,
 "nbformat_minor": 4
}
