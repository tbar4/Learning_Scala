{
 "cells": [
  {
   "cell_type": "markdown",
   "metadata": {},
   "source": [
    "# Functions\n",
    "\n",
    "***Functions*** are the core building blocks of reusable logic. ***Functional programming languages*** are geared to support the creation of highly reusable and composable functions and to help developers organize their code base around them. Much like a Unix power user will compose multiple single-purpose tools into a complex piped command, a functional programmer will combine single-purpose function invocations into chains of operations (think Map/Reduce). A function that was written with a simple purpose (e.g., to double a number) may be picked up and applied across a 50,000-node list, or given to an actor to be executed locally or in a remote server.\n",
    "\n",
    "In Scala, ***functions*** are named, reusable expressions. They may be parameterized and they may return a value, but neither of these features are required. These features are, however, useful for ensuring maximum reusability and composability. They will also help you write shorter, more readable, and more stable applications. Using parameter‐ ized functions you can normalize duplicated code, simplifying your logic and making it more discoverable. Testing your code becomes easier, because normalized and para‐ meterized logic is easier to test than denormalized logic repeated throughout your code.\n",
    "\n",
    "Even greater benefits may come from following standard functional programming methodology and building ***pure functions*** when possible. In functional programming a ***pure function*** is one that:\n",
    "\n",
    "* Has one or more input parameters\n",
    "* Performs calculations using only the input parameters\n",
    "* Returns a value\n",
    "* Always returns the same value for the same input\n",
    "* Does not use or affect any data outside the function\n",
    "* Is not affected by any data outside the function\n",
    "\n",
    "Pure functions are essentially equivalent to functions in mathematics, where the definition is a calculation derived only from the input parameters, and are the building blocks for programs in functional programming. They are more stable than functions that do not meet these requirements because they are stateless and orthogonal to ex‐ ternal data such as files, databases, sockets, global variables, or other shared data. In essence, they are uncorruptible and noncorrupting expressions of pure logic.\n",
    "\n",
    "On the other hand, it can be really hard to write useful applications that don’t affect files, databases, or sockets, so it is rare to write one that only contains pure functions. Instead of trying to find a way to exlusively use pure functions in their applications, Scala de‐ velopers will generally compromise and seek ways to reduce the number of unpure functions. Keeping unpure functions clearly named and organized in such a way that they can be easily identified versus pure functions is a common goal of modularizing and organizing Scala applications.\n",
    "\n",
    "With this in mind, let’s learn how to write functions in Scala. Because Scala’s function definitions are flexible, with several optional components, we’ll start with the most basic type first.\n",
    "\n",
    "> `def identifier = expression`\n",
    "\n",
    "At its most basic, a Scala function is a named wrapper for an expression. When you need a function to format the current data, check a remote service for new data, or just to return a fixed value, this is the format for you. Here is an example of defining and invoking input-less functions:"
   ]
  },
  {
   "cell_type": "code",
   "execution_count": 3,
   "metadata": {},
   "outputs": [
    {
     "data": {
      "text/plain": [
       "defined \u001b[32mfunction\u001b[39m \u001b[36mhi\u001b[39m\n",
       "\u001b[36mres2_1\u001b[39m: \u001b[32mString\u001b[39m = \u001b[32m\"hi\"\u001b[39m"
      ]
     },
     "execution_count": 3,
     "metadata": {},
     "output_type": "execute_result"
    }
   ],
   "source": [
    "def hi = \"hi\"\n",
    "\n",
    "hi"
   ]
  },
  {
   "cell_type": "markdown",
   "metadata": {},
   "source": [
    "The return type of functions, as with values and variables, are present even if they are not explicitly defined. And like values and variables, functions are easier to read with explicit types.\n",
    "\n",
    "> `def identifier: type = expression`\n",
    "\n",
    "This function definition is also input-less, but it demonstrates the “colon-and-type” format from value and variable definitions for function definitions. Here’s the “hi” function again with an explicit type for better readability:"
   ]
  },
  {
   "cell_type": "code",
   "execution_count": 5,
   "metadata": {},
   "outputs": [
    {
     "data": {
      "text/plain": [
       "defined \u001b[32mfunction\u001b[39m \u001b[36mhi\u001b[39m\n",
       "\u001b[36mres4_1\u001b[39m: \u001b[32mString\u001b[39m = \u001b[32m\"hi\"\u001b[39m"
      ]
     },
     "execution_count": 5,
     "metadata": {},
     "output_type": "execute_result"
    }
   ],
   "source": [
    "def hi: String = \"hi\"\n",
    "\n",
    "hi"
   ]
  },
  {
   "cell_type": "markdown",
   "metadata": {},
   "source": [
    "Now we’re ready to look at a full function definition.\n",
    "\n",
    "> `def identifier(identifier: type[,...]): type = expression`\n",
    "\n",
    "Let’s try creating a function that performs an essential mathematical operation:"
   ]
  },
  {
   "cell_type": "code",
   "execution_count": 6,
   "metadata": {},
   "outputs": [
    {
     "data": {
      "text/plain": [
       "defined \u001b[32mfunction\u001b[39m \u001b[36mmultiplier\u001b[39m\n",
       "\u001b[36mres5_1\u001b[39m: \u001b[32mInt\u001b[39m = \u001b[32m42\u001b[39m"
      ]
     },
     "execution_count": 6,
     "metadata": {},
     "output_type": "execute_result"
    }
   ],
   "source": [
    "def multiplier(x: Int, y: Int): Int = { x * y }\n",
    "\n",
    "multiplier(6, 7)"
   ]
  },
  {
   "cell_type": "markdown",
   "metadata": {},
   "source": [
    "The body of these functions consists essentially of expressions or expression blocks, where the final line becomes the return value of the expression and thus the function. You can use the return keyword to specify a function’s return value explicitly and exit the function. A common use of an early function exit is to stop further execution in the case of invalid or abnormal input values. For example, this “trim” function validates that the input value is nonnull before calling the JVM String’s “trim” method:"
   ]
  },
  {
   "cell_type": "code",
   "execution_count": 7,
   "metadata": {},
   "outputs": [
    {
     "data": {
      "text/plain": [
       "defined \u001b[32mfunction\u001b[39m \u001b[36msafeTrim\u001b[39m"
      ]
     },
     "execution_count": 7,
     "metadata": {},
     "output_type": "execute_result"
    }
   ],
   "source": [
    "def safeTrim(s: String): String = {\n",
    "    if (s == null) return null\n",
    "    s.trim()\n",
    "}"
   ]
  },
  {
   "cell_type": "markdown",
   "metadata": {},
   "source": [
    "## Procedures\n",
    "\n",
    "A ***procedure*** is a function that doesn’t have a return value. Any function that ends with a statement, such as a println() call, is also a procedure. If you have a simple function without an explicit return type that ends with a statement, the Scala compiler will infer the return type of the function to be Unit, the lack of a value. For procedures greater than a single line, an explicit unit type of Unit will clearly indicate to readers that there is no return value.\n",
    "\n",
    "Here is a simple logging procedure, defined with an implicit return type and then with an explict return type:"
   ]
  },
  {
   "cell_type": "code",
   "execution_count": 1,
   "metadata": {},
   "outputs": [
    {
     "name": "stdout",
     "output_type": "stream",
     "text": [
      "Got value 2.23\n"
     ]
    },
    {
     "data": {
      "text/plain": [
       "defined \u001b[32mfunction\u001b[39m \u001b[36mlog\u001b[39m"
      ]
     },
     "execution_count": 1,
     "metadata": {},
     "output_type": "execute_result"
    }
   ],
   "source": [
    "//def log(d: Double) = println(f\"Got value $d.2f\")\n",
    "\n",
    "def log(d: Double): Unit = println(f\"Got value $d%.2f\")\n",
    "\n",
    "log(2.233555)"
   ]
  },
  {
   "cell_type": "markdown",
   "metadata": {},
   "source": [
    "An alternate but now unofficially deprecated syntax you will see for procedures is to define them without the Unit return type and without an equals sign before the procedure body. With this syntax the example log() method would be written like this:"
   ]
  },
  {
   "cell_type": "code",
   "execution_count": 2,
   "metadata": {},
   "outputs": [
    {
     "data": {
      "text/plain": [
       "defined \u001b[32mfunction\u001b[39m \u001b[36mlog\u001b[39m"
      ]
     },
     "execution_count": 2,
     "metadata": {},
     "output_type": "execute_result"
    }
   ],
   "source": [
    "def log(d: Double) { println(f\"Got value $d%.2f\") }"
   ]
  },
  {
   "cell_type": "markdown",
   "metadata": {},
   "source": [
    "As just noted, this syntax is unofficially deprecated by the maintainers of the Scala language. The problem with this syntax is that too many developers accidentally wrote procedures with return values, expecting the return value to be actually returned to the caller. With this procedure syntax, any return value (or final expression) will be dis‐ carded. To address this problem, it is recommended that developers stick to regular function definitions with an equals sign to reduce the possibility that valid return values will be ignored.\n",
    "\n",
    "## Functions with Empty Parentheses\n",
    "\n",
    "An alternate way to define and invoke an input-less function (one which has no input parameters) is with empty parentheses. You might find this style preferable because it clearly distinguishes the function from a value.\n",
    "\n",
    "> `def identifier()[: type] = expression`\n",
    "\n",
    "You can invoke such a function using empty parentheses as well, or choose to leave them off:"
   ]
  },
  {
   "cell_type": "code",
   "execution_count": 3,
   "metadata": {},
   "outputs": [
    {
     "data": {
      "text/plain": [
       "defined \u001b[32mfunction\u001b[39m \u001b[36mhi\u001b[39m\n",
       "\u001b[36mres2_1\u001b[39m: \u001b[32mString\u001b[39m = \u001b[32m\"hi\"\u001b[39m\n",
       "\u001b[36mres2_2\u001b[39m: \u001b[32mString\u001b[39m = \u001b[32m\"hi\"\u001b[39m"
      ]
     },
     "execution_count": 3,
     "metadata": {},
     "output_type": "execute_result"
    }
   ],
   "source": [
    "def hi(): String = \"hi\"\n",
    "\n",
    "hi()\n",
    "\n",
    "hi"
   ]
  },
  {
   "cell_type": "markdown",
   "metadata": {},
   "source": [
    "The reverse is not true, however. Scala does not allow a function that was defined without parentheses to be invoked with them. This rule prevents confusion from invoking a function without parentheses versus invoking the return value of that function as a function.\n",
    "\n",
    "## Function Invocation with Expression Blocks\n",
    "\n",
    "When invoking functions using a single parameter, you can choose to use an expression block surrounded with curly braces to send the parameter instead of surrounding the value with parentheses. Using an expression block to invoke a function makes it possible to handle calculations or other actions and then call the function with the return value of the block.\n",
    "\n",
    "> `function identifier expression block`\n",
    "\n",
    "One example where using an expression block to invoke a function may be preferable is when you have to send a calculated value to the function. Instead of calculating the amount and storing it in local values to be passed to the function, you can do the cal‐ culations inside the expression block. The expression block will be evaluated before the function is called and the block’s return value will be used as the function argument.\n",
    "\n",
    "Here is an example of calculating values inside a function block used for invoking a function:"
   ]
  },
  {
   "cell_type": "code",
   "execution_count": 6,
   "metadata": {},
   "outputs": [
    {
     "data": {
      "text/plain": [
       "defined \u001b[32mfunction\u001b[39m \u001b[36mformatEuro\u001b[39m\n",
       "\u001b[36mres5_1\u001b[39m: \u001b[32mString\u001b[39m = \u001b[32m\"3.45\"\u001b[39m\n",
       "\u001b[36mres5_2\u001b[39m: \u001b[32mString\u001b[39m = \u001b[32m\"7.97\"\u001b[39m"
      ]
     },
     "execution_count": 6,
     "metadata": {},
     "output_type": "execute_result"
    }
   ],
   "source": [
    "def formatEuro(amt: Double) = f\"$amt%.2f\"\n",
    "\n",
    "formatEuro(3.4465)\n",
    "\n",
    "formatEuro {val rate = 1.32; 0.235 + 0.7123 + rate * 5.32}"
   ]
  },
  {
   "cell_type": "markdown",
   "metadata": {},
   "source": [
    "If the value we want to pass to the function is already calculated, using parentheses to specify the function parameter is the natural way to go. But if you have calculations that will only be used for the function, and you can keep the code readable to others, a function invocation with an expression block may be a good choice.\n",
    "\n",
    "## Recursive Functions\n",
    "\n",
    "A ***recursive*** function is one that may invoke itself, preferably with some type of parameter or external condition that will be checked to avoid an infinite loop of function invocation. Recursive functions are very popular in functional programming because they offer a way to iterate over data structures or calculations without using mutable data, because each function call has its own stack for storing function parameters.\n",
    "\n",
    "Here’s an example of a recursive function that raises an integer by a given positive exponent:"
   ]
  },
  {
   "cell_type": "code",
   "execution_count": 7,
   "metadata": {},
   "outputs": [
    {
     "data": {
      "text/plain": [
       "defined \u001b[32mfunction\u001b[39m \u001b[36mpower\u001b[39m\n",
       "\u001b[36mres6_1\u001b[39m: \u001b[32mLong\u001b[39m = \u001b[32m256L\u001b[39m\n",
       "\u001b[36mres6_2\u001b[39m: \u001b[32mLong\u001b[39m = \u001b[32m2L\u001b[39m\n",
       "\u001b[36mres6_3\u001b[39m: \u001b[32mLong\u001b[39m = \u001b[32m1L\u001b[39m"
      ]
     },
     "execution_count": 7,
     "metadata": {},
     "output_type": "execute_result"
    }
   ],
   "source": [
    "def power(x: Int, n: Int): Long = {\n",
    "    if (n >= 1) {\n",
    "        x * power(x, n - 1)\n",
    "    }\n",
    "    else {\n",
    "        1\n",
    "    }\n",
    "}\n",
    "\n",
    "power(2, 8)\n",
    "power(2, 1)\n",
    "power(2, 0)"
   ]
  },
  {
   "cell_type": "markdown",
   "metadata": {},
   "source": [
    "One problem with using recursive functions is running into the dreaded ***“Stack Overflow”*** error, where invoking a recursive function too many times eventually uses up all of the allocated stack space.\n",
    "\n",
    "To prevent this scenario, the Scala compiler can optimize some recursive functions with tail-recursion so that recursive calls do not use additional stack space. With tail-recursion–optimized functions, recursive invocation doesn’t create new stack space but instead uses the current function’s stack space. Only functions whose last statement is the recursive invocation can be optimized for tail-recursion by the Scala compiler. If the result of invoking itself is used for anything but the direct return value, a function can’t be optimized.\n",
    "\n",
    "Fortunately there is a function annotation available to mark a function as being intended to be optimized for tail-recursion. A function annotation is special syntax carried over from the Java programming language where the “at” sign (@) and an annotation type is placed before a function definition to mark it for special use. A function marked with the tail-recursion function annotation will cause an error at compilation time if it cannot be optimized for tail-recursion.\n",
    "\n",
    "To mark a function as intended for tail-recursion, add the text `@annotation.tailrec` before the function definition or on the previous line.\n",
    "\n",
    "Here’s the same example again only marked with the “tailrec” annotation, to let the Scala compiler know we expect it to be optimized for tail-recursion and that if it cannot be, the compiler should treat it as an error:"
   ]
  },
  {
   "cell_type": "code",
   "execution_count": 9,
   "metadata": {},
   "outputs": [
    {
     "data": {
      "text/plain": [
       "defined \u001b[32mfunction\u001b[39m \u001b[36mpower\u001b[39m\n",
       "\u001b[36mres8_1\u001b[39m: \u001b[32mLong\u001b[39m = \u001b[32m256L\u001b[39m"
      ]
     },
     "execution_count": 9,
     "metadata": {},
     "output_type": "execute_result"
    }
   ],
   "source": [
    "@annotation.tailrec\n",
    "def power(x: Int, n: Int, t: Int = 1): Long = {\n",
    "    if (n < 1) {\n",
    "        t\n",
    "    } else {\n",
    "        power(x, n - 1, x * t)\n",
    "    }\n",
    "}\n",
    "\n",
    "power(2, 8)"
   ]
  },
  {
   "cell_type": "markdown",
   "metadata": {},
   "source": [
    "The “tailrec” annotation and successful compile guarantees that the function will be optimized with tail-recursion, so that each successive call will not add more stack frames.\n",
    "\n",
    "Although this example may seem challenging to get through, recursion and tail- recursion are still valuable methods for iterating without using mutable data. You’ll find that many of the data structures we’ll explore later in the book will be rich with functions that are implemented with tail-recursion.\n",
    "\n",
    "## Nested Functions\n",
    "\n",
    "Functions are named, parameterized expression blocks and expression blocks are ne‐ stable, so it should be no great surprise that functions are themselves nestable.\n",
    "\n",
    "There are times when you have logic that needs to be repeated inside a method, but would not benefit from being extrapolated to an external method. In these cases defining an internal function inside another function, to only be used in that function, may be worthwhile.\n",
    "\n",
    "Let’s have a look at a method that takes three integers and returns the one with the highest value:"
   ]
  },
  {
   "cell_type": "code",
   "execution_count": 10,
   "metadata": {},
   "outputs": [
    {
     "data": {
      "text/plain": [
       "defined \u001b[32mfunction\u001b[39m \u001b[36mmax\u001b[39m"
      ]
     },
     "execution_count": 10,
     "metadata": {},
     "output_type": "execute_result"
    }
   ],
   "source": [
    "def max(a: Int, b: Int, c: Int) = {\n",
    "    def max(x: Int, y: Int) = {\n",
    "        if (x > y)\n",
    "            x else y\n",
    "    }\n",
    "    max(a, max(b, c))\n",
    "}"
   ]
  },
  {
   "cell_type": "code",
   "execution_count": 11,
   "metadata": {},
   "outputs": [
    {
     "data": {
      "text/plain": [
       "\u001b[36mres10\u001b[39m: \u001b[32mInt\u001b[39m = \u001b[32m181\u001b[39m"
      ]
     },
     "execution_count": 11,
     "metadata": {},
     "output_type": "execute_result"
    }
   ],
   "source": [
    "max(42, 181, 19)"
   ]
  },
  {
   "cell_type": "markdown",
   "metadata": {},
   "source": [
    "The logic inside the max(Int, Int) nested function was defined once but used twice inside the outer function, making it possible to reduce duplicated logic and simplify the overall function.\n",
    "\n",
    "The nested function here has the same name as its outer function, but because their parameters are different (the nested one only takes two integers) there is no conflict between them. Scala functions are differentiated by their name and the list of their parameter types. However, even if the names and parameter types were the same there would be no confict because the local (nested) one takes precedence over the outer one.\n",
    "\n",
    "## Calling Functions with Named Parameters\n",
    "\n",
    "The convention for calling functions is that the parameters are specified in the order in which they are originally defined. However, in Scala you can call parameters by name, making it possible to specify them out of order.\n",
    "\n",
    "> `function name(parameter = value)`\n",
    "\n",
    "A simple two-parameter function is invoked twice, first using the con‐ vention of specifying parameters by their order and then by assigning values by parameter name:"
   ]
  },
  {
   "cell_type": "code",
   "execution_count": 12,
   "metadata": {},
   "outputs": [
    {
     "data": {
      "text/plain": [
       "defined \u001b[32mfunction\u001b[39m \u001b[36mgreet\u001b[39m\n",
       "\u001b[36mgreeting1\u001b[39m: \u001b[32mString\u001b[39m = \u001b[32m\"Ms Brown\"\u001b[39m\n",
       "\u001b[36mgreeting2\u001b[39m: \u001b[32mString\u001b[39m = \u001b[32m\"Mr Brown\"\u001b[39m"
      ]
     },
     "execution_count": 12,
     "metadata": {},
     "output_type": "execute_result"
    }
   ],
   "source": [
    "def greet(prefix: String, name: String) = s\"$prefix $name\"\n",
    "\n",
    "val greeting1 = greet(\"Ms\", \"Brown\")\n",
    "\n",
    "val greeting2 = greet(name = \"Brown\", prefix = \"Mr\")"
   ]
  },
  {
   "cell_type": "markdown",
   "metadata": {},
   "source": [
    "## Parameters with Default Values\n",
    "\n",
    "A common problem when defining functions is deciding which input parameters they should take to maximize reuse. In Scala, Java, and other languages, a common solution is to provide multiple versions of the same function with the same name but different lists of input parameters. This practice is known as function overloading due to the function’s name being reused for different inputs. The common practice is to copy a function with x number of parameters to a new function with x–1 parameters that invokes the original function using a default value for the missing parameter.\n",
    "\n",
    "Scala provides a cleaner solution for this problem: specifying default values for any parameter, making the use of that parameter optional for callers.\n",
    "\n",
    "> `def identifier(identifier: type = value): type`\n",
    "\n",
    "Here is the greeting example from the previous section again with a default value for the “prefix” parameter. Because the “name” parameter is still required we will call the function with only this parameter, calling it by name because we can’t call it in order (because the “prefix” parameter comes first!):"
   ]
  },
  {
   "cell_type": "code",
   "execution_count": 13,
   "metadata": {},
   "outputs": [
    {
     "data": {
      "text/plain": [
       "defined \u001b[32mfunction\u001b[39m \u001b[36mgreet\u001b[39m\n",
       "\u001b[36mgreeting1\u001b[39m: \u001b[32mString\u001b[39m = \u001b[32m\"Paul\"\u001b[39m"
      ]
     },
     "execution_count": 13,
     "metadata": {},
     "output_type": "execute_result"
    }
   ],
   "source": [
    "def greet(prefix: String = \"\", name: String) = s\"$prefix$name\"\n",
    "\n",
    "val greeting1 = greet(name = \"Paul\")"
   ]
  },
  {
   "cell_type": "markdown",
   "metadata": {},
   "source": [
    "This is pretty useful, except it would be better to be able to call the function without having to specify the parameter name. By reorganizing the function so that the required parameter comes first, we can call it without using a parameter name:"
   ]
  },
  {
   "cell_type": "code",
   "execution_count": 14,
   "metadata": {},
   "outputs": [
    {
     "data": {
      "text/plain": [
       "defined \u001b[32mfunction\u001b[39m \u001b[36mgreet\u001b[39m\n",
       "\u001b[36mgreeting2\u001b[39m: \u001b[32mString\u001b[39m = \u001b[32m\"Olga\"\u001b[39m"
      ]
     },
     "execution_count": 14,
     "metadata": {},
     "output_type": "execute_result"
    }
   ],
   "source": [
    "def greet(name: String, prefix: String = \"\") = s\"$prefix$name\"\n",
    "\n",
    "val greeting2 = greet(\"Olga\")"
   ]
  },
  {
   "cell_type": "markdown",
   "metadata": {},
   "source": [
    "As a matter of style it’s better to organize function parameters so that those with default values follow required parameters. This emphasizes the importance of the required parameters as well as making it possible to call the function without specifying the default parameters and not require the use of parameter names.\n",
    "\n",
    "## Vararg Parameters\n",
    "\n",
    "Java and C developers will recognize the term ***vararg***, a function parameter that can match zero or more arguments from the caller. Its most popular usage is in string in‐ terpolation functions such as C’s printf() and Java’s String.format().\n",
    "\n",
    "Scala also supports vararg parameters, so you can define a function with a variable number of input arguments. The vararg parameter cannot be followed by a nonvararg parameter because there would be no way to distinguish them. Inside the function, the vararg parameter, implemented as a collection, can be used as an iterator in for loops.\n",
    "\n",
    "To mark a function parameter as matching one or more input arguments, add an asterisk symbol (\\*) after the parameter’s type in the function definition.\n",
    "\n",
    "Here is an example of using a vararg parameter to create a summing function that returns a sum of all of its input integers:"
   ]
  },
  {
   "cell_type": "code",
   "execution_count": 39,
   "metadata": {},
   "outputs": [
    {
     "data": {
      "text/plain": [
       "defined \u001b[32mfunction\u001b[39m \u001b[36msum\u001b[39m\n",
       "\u001b[36mres38_1\u001b[39m: \u001b[32mInt\u001b[39m = \u001b[32m60\u001b[39m\n",
       "\u001b[36mres38_2\u001b[39m: \u001b[32mInt\u001b[39m = \u001b[32m0\u001b[39m"
      ]
     },
     "execution_count": 39,
     "metadata": {},
     "output_type": "execute_result"
    }
   ],
   "source": [
    "def sum[A](items: Int*): Int = {\n",
    "    // Functional Programming Best Practice\n",
    "    items.reduce(_ + _)\n",
    "    /*\n",
    "    var total = 0\n",
    "    for (i <- items) {\n",
    "        total += i\n",
    "    }\n",
    "    total\n",
    "    */\n",
    "}\n",
    "\n",
    "sum(10, 20, 30)\n",
    "\n",
    "sum(0)"
   ]
  },
  {
   "cell_type": "markdown",
   "metadata": {},
   "source": [
    "## Parameter Groups\n",
    "\n",
    "So far we have looked at parameterized function definitions as a list of parameters surrounded by parentheses. Scala provides the option to break these into groups of parameters, each separated with their own parentheses.\n",
    "\n",
    "Here is an example of the “max” function where the two input parameters have been split into their own parameter groups:"
   ]
  },
  {
   "cell_type": "code",
   "execution_count": 24,
   "metadata": {},
   "outputs": [
    {
     "data": {
      "text/plain": [
       "defined \u001b[32mfunction\u001b[39m \u001b[36mmax\u001b[39m\n",
       "\u001b[36mres23_1\u001b[39m: \u001b[32mInt\u001b[39m = \u001b[32m25\u001b[39m"
      ]
     },
     "execution_count": 24,
     "metadata": {},
     "output_type": "execute_result"
    }
   ],
   "source": [
    "def max(x: Int)(y: Int) = {\n",
    "    if (x > y) x else y\n",
    "}\n",
    "\n",
    "max(20)(25)"
   ]
  },
  {
   "cell_type": "markdown",
   "metadata": {},
   "source": [
    "Given this example, parameter groups may appear to provide little benefit. Why not just keep all of the parameters together in one group? The real benefits come when you use them with function ***literals***.\n",
    "\n",
    "## Type Parameters\n",
    "\n",
    "Until this point, the only parameters to functions we have discussed are “value” pa‐ rameters, the input data passed to functions. In Scala, to complement the value param‐ eters, you can also pass type parameters, which dictate the types used for the value parameters or for the return value. Using type parameters can increase the flexibility and reusability of functions as they transition these types from being fixed to being set by the caller of the function.\n",
    "\n",
    "Here is the syntax for defining a function with a type parameter. I’ve removed everything after the return type to keep the syntax simple, and changed the typical “identifier” notation to denote its actual purpose (because otherwise every item after “def ” would be an identifier).\n",
    "\n",
    "> `def function-name[type-name](parameter-name: type-name): type-name...`\n",
    "\n",
    "Let’s say I want to have a simple function that only returns its input (known as an identity function), in this case one defined for a String:"
   ]
  },
  {
   "cell_type": "code",
   "execution_count": 25,
   "metadata": {},
   "outputs": [
    {
     "data": {
      "text/plain": [
       "defined \u001b[32mfunction\u001b[39m \u001b[36midentity\u001b[39m"
      ]
     },
     "execution_count": 25,
     "metadata": {},
     "output_type": "execute_result"
    }
   ],
   "source": [
    "def identity(s: String): String = s"
   ]
  },
  {
   "cell_type": "markdown",
   "metadata": {},
   "source": [
    "Well, that could be useful, but I can only call it for a String. There is no way to call it\n",
    "for, say, an Int unless I define a separate function:"
   ]
  },
  {
   "cell_type": "code",
   "execution_count": 26,
   "metadata": {},
   "outputs": [
    {
     "data": {
      "text/plain": [
       "defined \u001b[32mfunction\u001b[39m \u001b[36midentity\u001b[39m"
      ]
     },
     "execution_count": 26,
     "metadata": {},
     "output_type": "execute_result"
    }
   ],
   "source": [
    "def identity(i: Int): Int = i"
   ]
  },
  {
   "cell_type": "markdown",
   "metadata": {},
   "source": [
    "Now I have defined this for Ints, but it will be a pain to have to redefine this for every type I want to use. What if I just use the root type, Any, which will work for all types? I’ll try that out and pass it a new String, then store the return value:"
   ]
  },
  {
   "cell_type": "code",
   "execution_count": 27,
   "metadata": {},
   "outputs": [
    {
     "data": {
      "text/plain": [
       "defined \u001b[32mfunction\u001b[39m \u001b[36midentity\u001b[39m"
      ]
     },
     "execution_count": 27,
     "metadata": {},
     "output_type": "execute_result"
    }
   ],
   "source": [
    "def identity(a: Any): Any = a"
   ]
  },
  {
   "cell_type": "code",
   "execution_count": 27,
   "metadata": {},
   "outputs": [
    {
     "name": "stderr",
     "output_type": "stream",
     "text": [
      "cmd27.sc:1: type mismatch;\n",
      " found   : Any\n",
      " required: String\n",
      "val s: String = identity(\"Hello\")\n",
      "                        ^Compilation Failed"
     ]
    },
    {
     "ename": "",
     "evalue": "",
     "output_type": "error",
     "traceback": [
      "Compilation Failed"
     ]
    }
   ],
   "source": [
    "val s: String = identity(\"Hello\")"
   ]
  },
  {
   "cell_type": "markdown",
   "metadata": {},
   "source": [
    "This example didn’t work out. I had hoped to assign the result to a `String` but because the function’s return type is `Any` there was no way to do this, thus resulting in a Scala compilation error.\n",
    "\n",
    "Instead of defining the function to use a specific type (e.g., `String` or `Int`) or a generic “root” type (e.g., `Any`), parameterize the type so it will suit whatever callers want to use.\n",
    "\n",
    "Here is the identity function defined with a type parameter, making it usable with any type you give it:"
   ]
  },
  {
   "cell_type": "code",
   "execution_count": 33,
   "metadata": {},
   "outputs": [
    {
     "data": {
      "text/plain": [
       "defined \u001b[32mfunction\u001b[39m \u001b[36midentity\u001b[39m\n",
       "defined \u001b[32mfunction\u001b[39m \u001b[36midentityB\u001b[39m\n",
       "\u001b[36ms\u001b[39m: \u001b[32mString\u001b[39m = \u001b[32m\"Hello\"\u001b[39m\n",
       "\u001b[36msB\u001b[39m: \u001b[32mString\u001b[39m = \u001b[32m\"Hello\"\u001b[39m\n",
       "\u001b[36md\u001b[39m: \u001b[32mDouble\u001b[39m = \u001b[32m2.345\u001b[39m\n",
       "\u001b[36mdB\u001b[39m: \u001b[32mDouble\u001b[39m = \u001b[32m2.345\u001b[39m"
      ]
     },
     "execution_count": 33,
     "metadata": {},
     "output_type": "execute_result"
    }
   ],
   "source": [
    "def identity[A](a: A): A = a\n",
    "def identityB[B](b: B): B = b\n",
    "\n",
    "val s: String = identity[String](\"Hello\")\n",
    "val sB: String = identityB[String](\"Hello\")\n",
    "\n",
    "val d: Double = identity[Double](2.345)\n",
    "val dB: Double = identityB[Double](2.345)"
   ]
  },
  {
   "cell_type": "markdown",
   "metadata": {},
   "source": [
    "The identity function’s type parameter is A, which like the value parameter a is simply a unique identifier. It is used to define the type of the value parameter a and the return type of the function.\n",
    "\n",
    "Now that the identity function has been defined with a type parameter, I can call it with \\[String\\] to convert the value parameter type and return type into a String for the scope of my function call. I can then call it with \\[Double\\] to convert it to work with Double values for the scope of the function call.\n",
    "\n",
    "Of course, another excellent feature that we know Scala provides is type inference. In the preceding example it wasn’t really necessary to pass the \\[String\\] type parameter to the “identity” method because the compiler could have inferred this from either the String literal we passed it or the String value to which we assigned the function’s return value.\n",
    "\n",
    "Let’s take the two function calls from the previous example and remove their type parameters, demonstrating that type parameters can be inferred by the compiler:"
   ]
  },
  {
   "cell_type": "code",
   "execution_count": 35,
   "metadata": {},
   "outputs": [
    {
     "data": {
      "text/plain": [
       "\u001b[36ms\u001b[39m: \u001b[32mString\u001b[39m = \u001b[32m\"Hello\"\u001b[39m\n",
       "\u001b[36md\u001b[39m: \u001b[32mDouble\u001b[39m = \u001b[32m2.717\u001b[39m"
      ]
     },
     "execution_count": 35,
     "metadata": {},
     "output_type": "execute_result"
    }
   ],
   "source": [
    "val s: String = identity(\"Hello\")\n",
    "\n",
    "val d: Double = identity(2.717)"
   ]
  },
  {
   "cell_type": "markdown",
   "metadata": {},
   "source": [
    "There is just one remaining explicit type we can remove, the types of the values. With input values of a String and a Double, the Scala compiler can infer the types of the type parameters and of the values to which the return values are assigned:"
   ]
  },
  {
   "cell_type": "code",
   "execution_count": 36,
   "metadata": {},
   "outputs": [
    {
     "data": {
      "text/plain": [
       "\u001b[36ms\u001b[39m: \u001b[32mString\u001b[39m = \u001b[32m\"Hello\"\u001b[39m\n",
       "\u001b[36md\u001b[39m: \u001b[32mDouble\u001b[39m = \u001b[32m2.717\u001b[39m"
      ]
     },
     "execution_count": 36,
     "metadata": {},
     "output_type": "execute_result"
    }
   ],
   "source": [
    "val s = identity(\"Hello\")\n",
    "\n",
    "val d = identity(2.717)"
   ]
  },
  {
   "cell_type": "markdown",
   "metadata": {},
   "source": [
    "Here you have witnessed a triumph of type parameters and type inference. The literals passed to a function are enough to change its value parameter type, return value type, and the type of the values to which its return value is assigned.\n",
    "\n",
    "In regular practice this may not be the most readable way to define values, because a reader of the code would need to check the function definition carefully to figure out what the values assigned to its return value would become. It does, however, serve as a successful demonstration of the flexibility and functionality of Scala’s type system and support for highly reusable functions.\n",
    "\n",
    "## Methods and Operators\n",
    "\n",
    "A ***method*** is a function defined in a class and available from any instance of the class. The standard way to invoke methods in Scala (as in Java and Ruby) is with *infix dot notation*, where the method name is prefixed by the name of its instance and the dot (.) separator.\n",
    "\n",
    "> `class_instance.method(parameters)`\n",
    "\n",
    "Let’s try this out by calling one of the many useful methods on the String type:"
   ]
  },
  {
   "cell_type": "code",
   "execution_count": 40,
   "metadata": {},
   "outputs": [
    {
     "data": {
      "text/plain": [
       "\u001b[36ms\u001b[39m: \u001b[32mString\u001b[39m = \u001b[32m\"vacation.jpg\"\u001b[39m\n",
       "\u001b[36misJPG\u001b[39m: \u001b[32mBoolean\u001b[39m = true"
      ]
     },
     "execution_count": 40,
     "metadata": {},
     "output_type": "execute_result"
    }
   ],
   "source": [
    "val s = \"vacation.jpg\"\n",
    "\n",
    "val isJPG = s.endsWith(\".jpg\")"
   ]
  },
  {
   "cell_type": "markdown",
   "metadata": {},
   "source": [
    "If it isn’t clear, the value s is an instance of type String, and the String class has a method called `endsWith()`. In the future we’ll refer to methods using the full class name, like `String.endsWith()`, even though you typically invoke them with the instance name, not the type name.\n",
    "\n",
    "You’ll find that most of the types in Scala have a wide variety of methods available for use with them. Part of the process of becoming a proficient Scala developer is learning the Scala library well enough to be familiar with many of its types and their methods. The official Scala API Documention has a full list of the available types and their meth‐ ods. I highly recommend taking the time to learn the types you are using and try out new methods on them.\n",
    "\n",
    "Invoking a Method with Operator Notation:\n",
    "\n",
    "> `object method parameter`\n",
    "\n",
    "A more precise term for this notation would be ***infix operator notation***, because the operator (the object’s method) is located in between the two operands.\n",
    "\n",
    "Let’s repeat the last two method calls in the previous example, but rewrite them using operator notation. The first two methods in the previous example aren’t eligible for infix operator notation because they lack a parameter:"
   ]
  },
  {
   "cell_type": "code",
   "execution_count": 41,
   "metadata": {},
   "outputs": [
    {
     "data": {
      "text/plain": [
       "\u001b[36md\u001b[39m: \u001b[32mDouble\u001b[39m = \u001b[32m81.093\u001b[39m\n",
       "\u001b[36mres40_1\u001b[39m: \u001b[32mInt\u001b[39m = \u001b[32m1\u001b[39m"
      ]
     },
     "execution_count": 41,
     "metadata": {},
     "output_type": "execute_result"
    }
   ],
   "source": [
    "val d = 81.093\n",
    "\n",
    "d compare 18"
   ]
  }
 ],
 "metadata": {
  "kernelspec": {
   "display_name": "Scala",
   "language": "scala",
   "name": "scala"
  },
  "language_info": {
   "codemirror_mode": "text/x-scala",
   "file_extension": ".scala",
   "mimetype": "text/x-scala",
   "name": "scala",
   "nbconvert_exporter": "script",
   "version": "2.12.9"
  }
 },
 "nbformat": 4,
 "nbformat_minor": 4
}
