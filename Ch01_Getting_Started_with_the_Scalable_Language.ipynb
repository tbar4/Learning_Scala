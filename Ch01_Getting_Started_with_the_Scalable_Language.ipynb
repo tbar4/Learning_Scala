{
 "cells": [
  {
   "cell_type": "markdown",
   "metadata": {},
   "source": [
    "# Getting Started with the Scalable Language\n",
    "\n",
    "## Installing Scala\n",
    "\n",
    "As a JVM language, Scala requires the use of a Java runtime. Scala 2.11, the version you’ll be using, needs at least Java 6. However, I recommend installing the Java 8 JDK (aka Java SE for Standard Environment) instead for optimal performance. You can download the Java 8 JDK (or a later version, if available) for most platforms directly from Oracle’s website. Installers are available, so you shouldn’t need to manually configure your PATH variable to get the applications installed.\n",
    "\n",
    "When finished, verify your Java version by running java -version from the command line. Here is an example of running this command for Java 8:"
   ]
  },
  {
   "cell_type": "code",
   "execution_count": 1,
   "metadata": {},
   "outputs": [
    {
     "name": "stderr",
     "output_type": "stream",
     "text": [
      "java version \"1.8.0_231\"\n",
      "Java(TM) SE Runtime Environment (build 1.8.0_231-b11)\n",
      "Java HotSpot(TM) 64-Bit Server VM (build 25.231-b11, mixed mode)\n"
     ]
    },
    {
     "data": {
      "text/plain": [
       "\u001b[32mimport \u001b[39m\u001b[36msys.process._\n",
       "\n",
       "\u001b[39m\n",
       "\u001b[36mres0_1\u001b[39m: \u001b[32mInt\u001b[39m = \u001b[32m0\u001b[39m"
      ]
     },
     "execution_count": 1,
     "metadata": {},
     "output_type": "execute_result"
    }
   ],
   "source": [
    "// Import the sys.process._ pacakge to use shell commands from the Scala REPL\n",
    "import sys.process._\n",
    "\n",
    "\"java -version\" !"
   ]
  },
  {
   "cell_type": "markdown",
   "metadata": {},
   "source": [
    "### Manually\n",
    "\n",
    "To install Scala manually, download the Scala 2.11 distribution from http://www.scala-lang.org and add its “bin” directory to your path. The distribution includes the Scala runtimes, tools, compiled libraries, and source, but the most important item we’ll need is the scala command. This command provides (among other features) the REPL (Read-Eval-Print-Loop) shell we will use to learn and experiment with the Scala language.\n",
    "\n",
    "### Automatic\n",
    "\n",
    "To install Scala automatically, use a package manager such as Homebrew for OS X, Chocolatey for Windows, or apt-get/Yum for Linux systems. These are freely available and will handle finding the package, downloading and extracting it, and installing it so you can access it from the command line. The scala package is available in all of these package managers as “scala,” so you can install it with (brew/choco/apt-get-yum) install scala.\n",
    "\n",
    "When installed, execute the scala command from the command line. You should see a welcome message like the following (although your Scala and Java version messages may be different):"
   ]
  },
  {
   "cell_type": "code",
   "execution_count": 2,
   "metadata": {},
   "outputs": [
    {
     "name": "stdout",
     "output_type": "stream",
     "text": [
      "Welcome to Scala 2.13.1 (Java HotSpot(TM) 64-Bit Server VM, Java 1.8.0_231).\n",
      "Type in expressions for evaluation. Or try :help.\n",
      "\n",
      "scala> :quit\n"
     ]
    },
    {
     "data": {
      "text/plain": [
       "\u001b[36mres1\u001b[39m: \u001b[32mInt\u001b[39m = \u001b[32m0\u001b[39m"
      ]
     },
     "execution_count": 2,
     "metadata": {},
     "output_type": "execute_result"
    }
   ],
   "source": [
    "\"scala\" !"
   ]
  },
  {
   "cell_type": "markdown",
   "metadata": {},
   "source": [
    "1) Although `println()` is a good way to print a string, can you find a way to print a string without `println`? Also, what kinds of numbers, strings, and other data does the REPL support?\n",
    "\n",
    "Scala supports:\n",
    "* Boolean.\n",
    "* Byte.\n",
    "* Short.\n",
    "* Int.\n",
    "* Long.\n",
    "* Float.\n",
    "* Double.\n",
    "* Char.\n",
    "* Etc..."
   ]
  },
  {
   "cell_type": "code",
   "execution_count": 3,
   "metadata": {},
   "outputs": [
    {
     "name": "stdout",
     "output_type": "stream",
     "text": [
      "Hello, World!"
     ]
    }
   ],
   "source": [
    "// You can also use `print()` to output a string, but it will not have a new line after the string \n",
    "print(\"Hello, World!\")"
   ]
  },
  {
   "cell_type": "markdown",
   "metadata": {},
   "source": [
    "2) In the Scala REPL, convert the temperature value of 22.5 Centigrade to Fahrenheit. The conversion formula is cToF(x) = (x * 9/5) + 32."
   ]
  },
  {
   "cell_type": "code",
   "execution_count": 57,
   "metadata": {},
   "outputs": [
    {
     "data": {
      "text/plain": [
       "defined \u001b[32mobject\u001b[39m \u001b[36mMainObject\u001b[39m"
      ]
     },
     "execution_count": 57,
     "metadata": {},
     "output_type": "execute_result"
    }
   ],
   "source": [
    "object MainObject {\n",
    "    \n",
    "    def main(args: Array[String]): Unit = {\n",
    "        \n",
    "        // Pass the values specified by the exercise to values\n",
    "        \n",
    "        // We define what we want to convert to as a \"String\" type\n",
    "        val convertTo: String = \"Celsius\"\n",
    "        \n",
    "        // We pass the temperature in Celsius as \"Double\" type\n",
    "        val temp: Double = 22.5\n",
    "        \n",
    "        // Print the result to the console\n",
    "        println(tempConvert(convertTo, temp))\n",
    "    }\n",
    "    // Create private functions for the temperature conversions\n",
    "    def cToF(temp: Double): Double = {\n",
    "        temp * (9.0 / 5.0) + 32\n",
    "    }\n",
    "    \n",
    "    def fToC(temp: Double): Double = {\n",
    "        (temp - 32) * (5.0 / 9.0)\n",
    "    }\n",
    "                \n",
    "    // Create the method that will return the output of our conversion\n",
    "    // I will return `Unit` which is techincally returning nothing\n",
    "    // My function will take 2 inputs:\n",
    "    //      1. what am I converting to \n",
    "    //      2. What is the current unconverted temperature\n",
    "    def tempConvert(convertTo: String, temp: Double): Unit = {\n",
    "        \n",
    "        // I will take the first letter in the `convertTo` String to determine whether we wanted\n",
    "        // to convert to Celsius or Farenheit. I am taking advantage of Scala's pattern matching \n",
    "        // to help out people who are not sure how to spell Celsius or Farenheit\n",
    "        \n",
    "        // I use the `take` method to take the first letter and then call the `toUpperCase` method\n",
    "        // to standardize our inputs\n",
    "        convertTo.take(1).toUpperCase match {\n",
    "            // If the first letter is an \"F\" run a celsius to farenheit conversion\n",
    "            case \"F\" => println(\"%.1f Celsius is %.2f degrees Farenheit\".format(temp, cToF(temp)))\n",
    "            // If the first letter is a \"C\" run a farenheit to celsius conversion\n",
    "            case \"C\" => println(\"%.1f Farenheit is %.2f degrees Celsius\".format(temp, fToC(temp)))\n",
    "            // Else send a notice that the user needs to enter Celsius or Farenheit\n",
    "            case _ => println(\"Please enter Celsius or Farenheit\")\n",
    "        }\n",
    "    }\n",
    "}"
   ]
  },
  {
   "cell_type": "markdown",
   "metadata": {},
   "source": [
    "You can now call the `MainObject` and pass an empty array to its `main()` method like so:"
   ]
  },
  {
   "cell_type": "code",
   "execution_count": 58,
   "metadata": {},
   "outputs": [
    {
     "name": "stdout",
     "output_type": "stream",
     "text": [
      "22.5 Farenheit is -5.28 degrees Celsius\n",
      "()\n"
     ]
    }
   ],
   "source": [
    "MainObject.main(Array())"
   ]
  },
  {
   "cell_type": "markdown",
   "metadata": {},
   "source": [
    "You can also call the `tempConvert()` method to calculate your own conversion. Notice that I also mispelled \"Celsius\" in order to demonstrate pattern matching."
   ]
  },
  {
   "cell_type": "code",
   "execution_count": 59,
   "metadata": {},
   "outputs": [
    {
     "name": "stdout",
     "output_type": "stream",
     "text": [
      "55.0 Farenheit is 12.78 degrees Celsius\n",
      "7.0 Celsius is 44.60 degrees Farenheit\n",
      "Please enter Celsius or Farenheit\n"
     ]
    }
   ],
   "source": [
    "MainObject.tempConvert(\"celsi\", 55.0)\n",
    "\n",
    "MainObject.tempConvert(\"ferinheight\", 7)\n",
    "\n",
    "MainObject.tempConvert(\"elsius\", 10)"
   ]
  },
  {
   "cell_type": "markdown",
   "metadata": {},
   "source": [
    "## REPL load scala files\n",
    "\n",
    "The REPL can load and interpret Scala code from an external file with the :load <file> command. Another way to load external Scala code is to paste it into the REPL in “raw” mode, where the code is compiled as if it were actually in a proper source file. To do this, type :paste -raw, hit Return, and then paste the contents of your source file."
   ]
  }
 ],
 "metadata": {
  "kernelspec": {
   "display_name": "Scala",
   "language": "scala",
   "name": "scala"
  },
  "language_info": {
   "codemirror_mode": "text/x-scala",
   "file_extension": ".scala",
   "mimetype": "text/x-scala",
   "name": "scala",
   "nbconvert_exporter": "script",
   "version": "2.12.9"
  }
 },
 "nbformat": 4,
 "nbformat_minor": 4
}
